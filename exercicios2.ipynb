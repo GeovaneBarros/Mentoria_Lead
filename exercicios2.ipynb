{
 "cells": [
  {
   "cell_type": "markdown",
   "source": [
    "# Exercicios sklearn"
   ],
   "metadata": {}
  },
  {
   "cell_type": "code",
   "execution_count": 19,
   "source": [
    "import sklearn\n",
    "import pandas as pd\n",
    "import numpy as np\n",
    "import matplotlib.pyplot as plt\n",
    "from sklearn.tree import DecisionTreeClassifier\n",
    "from sklearn.ensemble import RandomForestClassifier\n",
    "from sklearn.preprocessing import LabelEncoder\n",
    "from sklearn.model_selection import train_test_split, KFold\n",
    "from sklearn.neighbors import KNeighborsClassifier\n",
    "from sklearn.metrics import accuracy_score, confusion_matrix, ConfusionMatrixDisplay, classification_report"
   ],
   "outputs": [],
   "metadata": {}
  },
  {
   "cell_type": "markdown",
   "source": [
    "## Importação do DataFrame \"Drugs\""
   ],
   "metadata": {}
  },
  {
   "cell_type": "code",
   "execution_count": 3,
   "source": [
    "df_drogas = pd.read_csv('./SRC/drogas.csv')\n",
    "df_drogas.columns = ['IDADE', 'SEXO','PRESSAO_SANGUE', 'COLESTEROL', 'SODIO_POTACIO', 'DROGA']"
   ],
   "outputs": [],
   "metadata": {}
  },
  {
   "cell_type": "code",
   "execution_count": 4,
   "source": [
    "df_drogas['DROGA'].count()"
   ],
   "outputs": [
    {
     "output_type": "execute_result",
     "data": {
      "text/plain": [
       "200"
      ]
     },
     "metadata": {},
     "execution_count": 4
    }
   ],
   "metadata": {}
  },
  {
   "cell_type": "markdown",
   "source": [
    "### Transformação dos dados categoricos em numéricos"
   ],
   "metadata": {}
  },
  {
   "cell_type": "code",
   "execution_count": 5,
   "source": [
    "\n",
    "labelencoder = LabelEncoder()\n",
    "\n",
    "df_drogas['SEXO'] = labelencoder.fit_transform(df_drogas['SEXO'])\n",
    "df_drogas['PRESSAO_SANGUE'] = labelencoder.fit_transform(df_drogas['PRESSAO_SANGUE'])\n",
    "df_drogas['COLESTEROL'] = labelencoder.fit_transform(df_drogas['COLESTEROL'])\n",
    "df_drogas['DROGA'] = labelencoder.fit_transform(df_drogas['DROGA'])\n"
   ],
   "outputs": [],
   "metadata": {}
  },
  {
   "cell_type": "markdown",
   "source": [
    "## Funções"
   ],
   "metadata": {}
  },
  {
   "cell_type": "code",
   "execution_count": 20,
   "source": [
    "def separacao_test_split(df, df_column, test_size):\n",
    "    X_train, X_test, y_train, y_test = train_test_split(df, df_column, test_size=test_size, random_state=42)\n",
    "    return (X_train, X_test, y_train, y_test)\n",
    "\n",
    "def separacao_KFold(X, y, n):\n",
    "     kf = KFold(n_splits=n)\n",
    "     media = []\n",
    "\n",
    "     for i, j in kf.split(X):\n",
    "          X_train, X_test = X.values[i], X.values[j] \n",
    "          y_train, y_test = y[i], y[j]\n",
    "          \n",
    "          modelo = KNN(X_train, y_train, 3)\n",
    "          y_predict = modelo.predict(X_test)\n",
    "          media.append(accuracy_score(y_test, y_predict))\n",
    "\n",
    "     return(sum(media)/len(media))\n",
    "\n",
    "def KNN(X_train, y_train, n):\n",
    "    modelo = KNeighborsClassifier(n_neighbors=n)\n",
    "    return modelo.fit(X_train, y_train)\n",
    "\n",
    "def decision_tree(X_train, y_train):\n",
    "    modelo = DecisionTreeClassifier()\n",
    "    return modelo.fit(X_train, y_train)\n",
    "\n",
    "def random_forest(X_train, y_train):\n",
    "    clf = RandomForestClassifier(max_depth=2, random_state=0)\n",
    "    return clf.fit(X_train, y_train)\n",
    "\n",
    "def print_matriz_confusao(y_test, y_predict):\n",
    "    cm = confusion_matrix(y_test, y_predict)\n",
    "    disp = ConfusionMatrixDisplay(confusion_matrix=cm)\n",
    "    disp.plot()\n"
   ],
   "outputs": [],
   "metadata": {}
  },
  {
   "cell_type": "markdown",
   "source": [
    "## Separando dados utilizando método K-fold"
   ],
   "metadata": {}
  },
  {
   "cell_type": "code",
   "execution_count": 7,
   "source": [
    "X = df_drogas.drop(columns=['DROGA'])\n",
    "y = df_drogas['DROGA']"
   ],
   "outputs": [],
   "metadata": {}
  },
  {
   "cell_type": "markdown",
   "source": [
    "## Testando as funções"
   ],
   "metadata": {}
  },
  {
   "cell_type": "code",
   "execution_count": 8,
   "source": [
    "X_train, X_test, y_train, y_test = separacao_test_split(X, y, 0.25)"
   ],
   "outputs": [],
   "metadata": {}
  },
  {
   "cell_type": "code",
   "execution_count": 9,
   "source": [
    "modelo = KNN(X_train, y_train, 3)\n",
    "y_predict = modelo.predict(X_test)"
   ],
   "outputs": [],
   "metadata": {}
  },
  {
   "cell_type": "code",
   "execution_count": 10,
   "source": [
    "print_matriz_confusao(y_test, y_predict)"
   ],
   "outputs": [
    {
     "output_type": "display_data",
     "data": {
      "image/png": "[encoded data removed]",
      "text/plain": [
       "<Figure size 432x288 with 2 Axes>"
      ]
     },
     "metadata": {
      "needs_background": "light"
     }
    }
   ],
   "metadata": {}
  },
  {
   "cell_type": "markdown",
   "source": [
    "Gráfico de K-Vizinhos x Precisão"
   ],
   "metadata": {}
  },
  {
   "cell_type": "code",
   "execution_count": 11,
   "source": [
    "k = []\n",
    "precisao = []\n",
    "for i in range(3,30,2):\n",
    "    modelo = KNN(X_train, y_train, i)\n",
    "    k.append(i)\n",
    "    y_predict = modelo.predict(X_test)\n",
    "    precisao.append(accuracy_score(y_test, y_predict))\n",
    "fig, ax = plt.subplots()\n",
    "ax.plot(k, precisao)\n",
    "ax.set(ylabel='Precisão', xlabel='K-Valores')\n",
    "plt.show()\n"
   ],
   "outputs": [
    {
     "output_type": "display_data",
     "data": {
      "image/png": "[encoded data removed]",
      "text/plain": [
       "<Figure size 432x288 with 1 Axes>"
      ]
     },
     "metadata": {
      "needs_background": "light"
     }
    }
   ],
   "metadata": {}
  },
  {
   "cell_type": "markdown",
   "source": [
    "Qual melhor tamanho para blocos no K-fold?"
   ],
   "metadata": {}
  },
  {
   "cell_type": "code",
   "execution_count": 12,
   "source": [
    "maior = 0\n",
    "tamanho = -1\n",
    "for i in range(2,25):\n",
    "    teste = separacao_KFold(X, y, i)\n",
    "    if teste > maior:\n",
    "        maior = teste\n",
    "        tamanho = i\n",
    "\n",
    "\n",
    "print(f'Melhor valor para tamanho dos blocos é: {tamanho}, com média de precisao {maior}')"
   ],
   "outputs": [
    {
     "output_type": "stream",
     "name": "stdout",
     "text": [
      "Melhor valor para tamanho dos blocos é: 22, com média de precisao 0.7454545454545454\n"
     ]
    }
   ],
   "metadata": {}
  },
  {
   "cell_type": "code",
   "execution_count": 13,
   "source": [
    "maior = 0\n",
    "tamanho = -1\n",
    "decimal = np.arange(0.25,0.4, 0.02)\n",
    "for i in decimal:\n",
    "    X_train, X_test, y_train, y_test = separacao_test_split(X, y, i)\n",
    "    modelo = KNN(X_train,y_train, 3)\n",
    "    precisao = accuracy_score(y_test, modelo.predict(X_test))\n",
    "    if precisao > maior:\n",
    "        maior = precisao\n",
    "        tamanho = i\n",
    "\n",
    "\n",
    "print(f'Melhor valor para tamanho dos testes é: {tamanho}, com média de precisao de {maior}')\n",
    "\n"
   ],
   "outputs": [
    {
     "output_type": "stream",
     "name": "stdout",
     "text": [
      "Melhor valor para tamanho dos testes é: 0.25, com média de precisao de 0.74\n"
     ]
    }
   ],
   "metadata": {}
  },
  {
   "cell_type": "markdown",
   "source": [
    "## Arvore de decisão"
   ],
   "metadata": {}
  },
  {
   "cell_type": "code",
   "execution_count": 17,
   "source": [
    "modelo = decision_tree(X_train, y_train)\n",
    "y_predict = modelo.predict(X_test)"
   ],
   "outputs": [],
   "metadata": {}
  },
  {
   "cell_type": "code",
   "execution_count": 18,
   "source": [
    "print(accuracy_score(y_test,y_predict))"
   ],
   "outputs": [
    {
     "output_type": "stream",
     "name": "stdout",
     "text": [
      "1.0\n"
     ]
    }
   ],
   "metadata": {}
  },
  {
   "cell_type": "code",
   "execution_count": 22,
   "source": [
    "modelo = random_forest(X_train, y_train)\n",
    "y_predict = modelo.predict(X_test)"
   ],
   "outputs": [],
   "metadata": {}
  },
  {
   "cell_type": "code",
   "execution_count": 23,
   "source": [
    "print(classification_report(y_test, y_predict))"
   ],
   "outputs": [
    {
     "output_type": "stream",
     "name": "stdout",
     "text": [
      "              precision    recall  f1-score   support\n",
      "\n",
      "           0       1.00      1.00      1.00        33\n",
      "           1       1.00      1.00      1.00        10\n",
      "           2       1.00      1.00      1.00         6\n",
      "           3       0.00      0.00      0.00         6\n",
      "           4       0.80      1.00      0.89        24\n",
      "\n",
      "    accuracy                           0.92        79\n",
      "   macro avg       0.76      0.80      0.78        79\n",
      "weighted avg       0.86      0.92      0.89        79\n",
      "\n"
     ]
    },
    {
     "output_type": "stream",
     "name": "stderr",
     "text": [
      "/home/geovane/anaconda3/lib/python3.8/site-packages/sklearn/metrics/_classification.py:1245: UndefinedMetricWarning: Precision and F-score are ill-defined and being set to 0.0 in labels with no predicted samples. Use `zero_division` parameter to control this behavior.\n",
      "  _warn_prf(average, modifier, msg_start, len(result))\n",
      "/home/geovane/anaconda3/lib/python3.8/site-packages/sklearn/metrics/_classification.py:1245: UndefinedMetricWarning: Precision and F-score are ill-defined and being set to 0.0 in labels with no predicted samples. Use `zero_division` parameter to control this behavior.\n",
      "  _warn_prf(average, modifier, msg_start, len(result))\n",
      "/home/geovane/anaconda3/lib/python3.8/site-packages/sklearn/metrics/_classification.py:1245: UndefinedMetricWarning: Precision and F-score are ill-defined and being set to 0.0 in labels with no predicted samples. Use `zero_division` parameter to control this behavior.\n",
      "  _warn_prf(average, modifier, msg_start, len(result))\n"
     ]
    }
   ],
   "metadata": {}
  }
 ],
 "metadata": {
  "orig_nbformat": 4,
  "language_info": {
   "name": "python",
   "version": "3.8.8",
   "mimetype": "text/x-python",
   "codemirror_mode": {
    "name": "ipython",
    "version": 3
   },
   "pygments_lexer": "ipython3",
   "nbconvert_exporter": "python",
   "file_extension": ".py"
  },
  "kernelspec": {
   "name": "python3",
   "display_name": "Python 3.8.8 64-bit ('base': conda)"
  },
  "interpreter": {
   "hash": "f177ad86c4b5ee2186f8b95dd21ff241dedfa76ee0439168488eec7625d4ea20"
  }
 },
 "nbformat": 4,
 "nbformat_minor": 2
}
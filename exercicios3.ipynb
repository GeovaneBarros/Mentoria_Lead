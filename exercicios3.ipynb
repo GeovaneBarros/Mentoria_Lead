{
 "cells": [
  {
   "cell_type": "markdown",
   "metadata": {},
   "source": [
    "## Data import"
   ]
  },
  {
   "cell_type": "code",
   "execution_count": 130,
   "metadata": {},
   "outputs": [],
   "source": [
    "import numpy as np\n",
    "import seaborn as sb\n",
    "import keras\n",
    "import pandas as pd\n",
    "from sklearn.neural_network import MLPClassifier\n",
    "import matplotlib.pyplot as plt\n",
    "%matplotlib inline\n",
    "from sklearn.naive_bayes import GaussianNB\n",
    "from sklearn.preprocessing import Normalizer, StandardScaler\n",
    "from sklearn.ensemble import RandomForestClassifier\n",
    "from sklearn.neighbors import KNeighborsClassifier\n",
    "from sklearn.tree import DecisionTreeClassifier\n",
    "from sklearn.svm import SVC\n",
    "from sklearn.manifold import TSNE\n",
    "from sklearn.cluster import KMeans\n",
    "from sklearn.model_selection import GridSearchCV, RandomizedSearchCV\n",
    "from sklearn.metrics import accuracy_score, confusion_matrix, ConfusionMatrixDisplay, classification_report"
   ]
  },
  {
   "cell_type": "code",
   "execution_count": 131,
   "metadata": {},
   "outputs": [],
   "source": [
    "(X_train,y_train), ( X_test, y_test) = keras.datasets.mnist.load_data()\n"
   ]
  },
  {
   "cell_type": "code",
   "execution_count": 132,
   "metadata": {},
   "outputs": [],
   "source": [
    "X_train = np.reshape(X_train, (60000,784))\n",
    "X_test = np.reshape(X_test, (10000,784))"
   ]
  },
  {
   "cell_type": "markdown",
   "metadata": {},
   "source": [
    "For better work, I reduced the data by 75%"
   ]
  },
  {
   "cell_type": "code",
   "execution_count": 133,
   "metadata": {},
   "outputs": [],
   "source": [
    "X_train = X_train[:5000][:]\n",
    "X_test = X_test[:750][:]\n",
    "y_train = y_train[:5000]\n",
    "y_test = y_test[:750]"
   ]
  },
  {
   "cell_type": "markdown",
   "metadata": {},
   "source": [
    "## Training models"
   ]
  },
  {
   "cell_type": "markdown",
   "metadata": {},
   "source": [
    "### Selecting classifiers"
   ]
  },
  {
   "cell_type": "code",
   "execution_count": 134,
   "metadata": {},
   "outputs": [],
   "source": [
    "models = {\n",
    "    'knn': KNeighborsClassifier(),\n",
    "    'decision_tree': DecisionTreeClassifier(),\n",
    "    'random_forest': RandomForestClassifier(),\n",
    "    'svc': SVC(),\n",
    "    'mlp': MLPClassifier(),\n",
    "    'bayes': GaussianNB()\n",
    "}"
   ]
  },
  {
   "cell_type": "code",
   "execution_count": 135,
   "metadata": {},
   "outputs": [],
   "source": [
    "names_models = {\n",
    "    'knn': 'KNeighborsClassifier',\n",
    "    'decision_tree': 'DecisionTreeClassifier',\n",
    "    'random_forest': 'RandomForestClassifier',\n",
    "    'svc': 'SVC',\n",
    "    'mlp': 'MLPClassifier',\n",
    "    'bayes': 'GaussianNB'\n",
    "}"
   ]
  },
  {
   "cell_type": "markdown",
   "metadata": {},
   "source": [
    "### Training classifiers"
   ]
  },
  {
   "cell_type": "code",
   "execution_count": 136,
   "metadata": {},
   "outputs": [
    {
     "name": "stdout",
     "output_type": "stream",
     "text": [
      "Accuracy KNeighborsClassifier = 0.908\n",
      "Accuracy DecisionTreeClassifier = 0.7546666666666667\n",
      "Accuracy RandomForestClassifier = 0.9266666666666666\n",
      "Accuracy SVC = 0.936\n",
      "Accuracy MLPClassifier = 0.8466666666666667\n",
      "Accuracy GaussianNB = 0.5573333333333333\n"
     ]
    }
   ],
   "source": [
    "accuracies = []\n",
    "classifiers = []\n",
    "for i in models:\n",
    "    clf = models[i].fit(X_train, y_train)\n",
    "    y_predict = clf.predict(X_test)\n",
    "    accuracy = accuracy_score(y_test, y_predict)\n",
    "    print(f'Accuracy {names_models[i]} = {accuracy_score(y_test, y_predict)}')\n",
    "    accuracies.append(accuracy)\n",
    "    classifiers.append(names_models[i])"
   ]
  },
  {
   "cell_type": "markdown",
   "metadata": {},
   "source": [
    "### Plot results"
   ]
  },
  {
   "cell_type": "code",
   "execution_count": 137,
   "metadata": {},
   "outputs": [],
   "source": [
    "dataframe = pd.DataFrame({\n",
    "    'Classifiers': classifiers,\n",
    "    'Accuracies':accuracies\n",
    "})"
   ]
  },
  {
   "cell_type": "code",
   "execution_count": 138,
   "metadata": {},
   "outputs": [
    {
     "data": {
      "image/png": "[encoded data removed]",
      "text/plain": [
       "<Figure size 432x288 with 1 Axes>"
      ]
     },
     "metadata": {
      "needs_background": "light"
     },
     "output_type": "display_data"
    }
   ],
   "source": [
    "ax = sb.barplot(data=dataframe, x='Classifiers', y='Accuracies')\n",
    "ax.set(ylim=(0.4,1))\n",
    "ax.tick_params(axis='x', rotation=45)"
   ]
  },
  {
   "cell_type": "markdown",
   "metadata": {},
   "source": [
    "<p> As expected, Decision Tree and Naive Bayes classifiers are much less accurate than other classifiers.\n",
    "<p> Now let's try to improve other classifiers\n",
    "<p> SVC and MLP are responsible for ​​80% of the execution time"
   ]
  },
  {
   "cell_type": "markdown",
   "metadata": {},
   "source": [
    "## Improve classifiers"
   ]
  },
  {
   "cell_type": "markdown",
   "metadata": {},
   "source": [
    "### Filtering the best classifiers and setting parameters"
   ]
  },
  {
   "cell_type": "code",
   "execution_count": 139,
   "metadata": {},
   "outputs": [],
   "source": [
    "models = {\n",
    "    'knn': KNeighborsClassifier(),\n",
    "    'random_forest': RandomForestClassifier(),\n",
    "    'svc': SVC(),\n",
    "    'mlp': MLPClassifier()\n",
    "}"
   ]
  },
  {
   "cell_type": "code",
   "execution_count": 140,
   "metadata": {},
   "outputs": [],
   "source": [
    "params = {\n",
    "    'knn': {'n_neighbors':[1,3,5,7]},\n",
    "    'random_forest': {'criterion': ['gini','entropy'], 'n_estimators':[50,100,150,200]},\n",
    "    'svc': {'kernel':['linear', 'poly', 'rbf', 'sigmoid'], 'gamma':['scale','auto'], 'degree':[2,3,4]},\n",
    "    'mlp': {'solver':['sgd', 'adam'], 'hidden_layer_sizes':[(100,), (50,50), (100,50)], 'max_iter':[1000]},\n",
    "}"
   ]
  },
  {
   "cell_type": "markdown",
   "metadata": {},
   "source": [
    "### Randomized Search for best models in prev section"
   ]
  },
  {
   "cell_type": "code",
   "execution_count": 141,
   "metadata": {},
   "outputs": [
    {
     "name": "stdout",
     "output_type": "stream",
     "text": [
      "Accuracy KNeighborsClassifier = 0.9026666666666666\n",
      "Best params {'n_neighbors': 1}\n",
      "Accuracy RandomForestClassifier = 0.932\n",
      "Best params {'n_estimators': 200, 'criterion': 'gini'}\n",
      "Accuracy SVC = 0.9386666666666666\n",
      "Best params {'kernel': 'poly', 'gamma': 'scale', 'degree': 2}\n",
      "Accuracy MLPClassifier = 0.864\n",
      "Best params {'solver': 'adam', 'max_iter': 1000, 'hidden_layer_sizes': (100,)}\n"
     ]
    }
   ],
   "source": [
    "best_accuracy = 0\n",
    "\n",
    "for i in models:\n",
    "    clf = RandomizedSearchCV(models[i], params[i], n_iter=4).fit(X_train, y_train)\n",
    "    y_predict = clf.predict(X_test)\n",
    "    accuracy = accuracy_score(y_test, y_predict)\n",
    "    print(f'Accuracy {names_models[i]} = {accuracy_score(y_test, y_predict)}')\n",
    "    print(f'Best params {clf.best_params_}')\n",
    "    if accuracy > best_accuracy:\n",
    "        best_accuracy = accuracy\n",
    "        best_classifier = clf"
   ]
  },
  {
   "cell_type": "markdown",
   "metadata": {},
   "source": [
    "## Normalizing and standardizing best classifier"
   ]
  },
  {
   "cell_type": "code",
   "execution_count": 142,
   "metadata": {},
   "outputs": [],
   "source": [
    "accuracies = [best_accuracy]\n",
    "classifiers = ['Unchanged', 'Normalized', 'Standardized']"
   ]
  },
  {
   "cell_type": "markdown",
   "metadata": {},
   "source": [
    "### Normalizing"
   ]
  },
  {
   "cell_type": "code",
   "execution_count": 143,
   "metadata": {},
   "outputs": [],
   "source": [
    "X_train_normalized = Normalizer().fit(X_train).transform(X_train)\n",
    "X_test_normalized = Normalizer().fit(X_test).transform(X_test)"
   ]
  },
  {
   "cell_type": "code",
   "execution_count": 144,
   "metadata": {},
   "outputs": [
    {
     "name": "stdout",
     "output_type": "stream",
     "text": [
      "Accuracy with data normalized 0.9466666666666667\n"
     ]
    }
   ],
   "source": [
    "clf = best_classifier.best_estimator_\n",
    "clf.fit(X_train_normalized, y_train)\n",
    "accuracy = accuracy_score(y_test, clf.predict(X_test_normalized))\n",
    "print(f'Accuracy with data normalized {accuracy}')\n",
    "accuracies.append(accuracy)\n"
   ]
  },
  {
   "cell_type": "markdown",
   "metadata": {},
   "source": [
    "### Standardizing"
   ]
  },
  {
   "cell_type": "code",
   "execution_count": 145,
   "metadata": {},
   "outputs": [],
   "source": [
    "X_train_standardizing =StandardScaler().fit(X_train).transform(X_train)\n",
    "X_test_standardizing = StandardScaler().fit(X_test).transform(X_test)"
   ]
  },
  {
   "cell_type": "code",
   "execution_count": 146,
   "metadata": {},
   "outputs": [
    {
     "name": "stdout",
     "output_type": "stream",
     "text": [
      "Accuracy with data standardized 0.9066666666666666\n"
     ]
    }
   ],
   "source": [
    "clf = best_classifier.best_estimator_\n",
    "clf.fit(X_train_standardizing, y_train)\n",
    "accuracy = accuracy_score(y_test, clf.predict(X_test_standardizing))\n",
    "print(f'Accuracy with data standardized {accuracy}')\n",
    "accuracies.append(accuracy)"
   ]
  },
  {
   "cell_type": "markdown",
   "metadata": {},
   "source": [
    "### Plot results"
   ]
  },
  {
   "cell_type": "code",
   "execution_count": 147,
   "metadata": {},
   "outputs": [],
   "source": [
    "dataframe = pd.DataFrame({\n",
    "    'Classifiers': classifiers,\n",
    "    'Accuracies':accuracies\n",
    "})"
   ]
  },
  {
   "cell_type": "code",
   "execution_count": 148,
   "metadata": {},
   "outputs": [
    {
     "data": {
      "text/plain": [
       "[(0.5, 0.98)]"
      ]
     },
     "execution_count": 148,
     "metadata": {},
     "output_type": "execute_result"
    },
    {
     "data": {
      "image/png": "[encoded data removed]",
      "text/plain": [
       "<Figure size 432x288 with 1 Axes>"
      ]
     },
     "metadata": {
      "needs_background": "light"
     },
     "output_type": "display_data"
    }
   ],
   "source": [
    "ax = sb.barplot(data=dataframe, x='Classifiers', y='Accuracies')\n",
    "ax.set(ylim=(0.5,0.98))"
   ]
  },
  {
   "cell_type": "markdown",
   "metadata": {},
   "source": [
    "In this example, the normalization affected the accuracy result, being very interesting to implement it. Regarding standardization, it may not bring satisfactory results, sometimes it may even decrease the accuracy value."
   ]
  },
  {
   "cell_type": "markdown",
   "metadata": {},
   "source": [
    "## Kmeans"
   ]
  },
  {
   "cell_type": "code",
   "execution_count": 149,
   "metadata": {},
   "outputs": [],
   "source": [
    "clf = KMeans(n_clusters=10).fit(X_train)"
   ]
  },
  {
   "cell_type": "code",
   "execution_count": 150,
   "metadata": {},
   "outputs": [],
   "source": [
    "y_predict = clf.predict(X_test)"
   ]
  },
  {
   "cell_type": "code",
   "execution_count": 151,
   "metadata": {},
   "outputs": [
    {
     "data": {
      "text/plain": [
       "<AxesSubplot:ylabel='count'>"
      ]
     },
     "execution_count": 151,
     "metadata": {},
     "output_type": "execute_result"
    },
    {
     "data": {
      "image/png": "[encoded data removed]",
      "text/plain": [
       "<Figure size 432x288 with 1 Axes>"
      ]
     },
     "metadata": {
      "needs_background": "light"
     },
     "output_type": "display_data"
    }
   ],
   "source": [
    "sb.countplot(x=y_predict)"
   ]
  },
  {
   "cell_type": "markdown",
   "metadata": {},
   "source": [
    "The dataset with many classes is quite complicated to identify the real class."
   ]
  },
  {
   "cell_type": "markdown",
   "metadata": {},
   "source": [
    "## TSNE"
   ]
  },
  {
   "cell_type": "code",
   "execution_count": 155,
   "metadata": {},
   "outputs": [],
   "source": [
    "X_embedded = TSNE().fit_transform(X_train)"
   ]
  },
  {
   "cell_type": "code",
   "execution_count": 191,
   "metadata": {},
   "outputs": [
    {
     "data": {
      "text/plain": [
       "<matplotlib.collections.PathCollection at 0x7ff1821d2d60>"
      ]
     },
     "execution_count": 191,
     "metadata": {},
     "output_type": "execute_result"
    },
    {
     "data": {
      "image/png": "[encoded data removed]",
      "text/plain": [
       "<Figure size 432x288 with 1 Axes>"
      ]
     },
     "metadata": {
      "needs_background": "light"
     },
     "output_type": "display_data"
    }
   ],
   "source": [
    "plt.scatter(df[0], df[1], c=y_train)"
   ]
  },
  {
   "cell_type": "markdown",
   "metadata": {},
   "source": [
    "With TSNE it is easy to recognize class groups. But I still haven't been able to make a header with the classes and colors"
   ]
  },
  {
   "cell_type": "markdown",
   "metadata": {},
   "source": [
    "## Results"
   ]
  },
  {
   "cell_type": "markdown",
   "metadata": {},
   "source": [
    "As we can see in the graphics, using random search to increase the accuracy of the classifiers ended up having no effect. Using normalization had a small gain in accuracy, so it's interesting to implement it."
   ]
  }
 ],
 "metadata": {
  "interpreter": {
   "hash": "ea1739ab543a4b410229dd1eb18854054f2f11dbbb2ce59b0d0244421c1efe7a"
  },
  "kernelspec": {
   "display_name": "Python 3.8.8 64-bit ('base': conda)",
   "name": "python3"
  },
  "language_info": {
   "codemirror_mode": {
    "name": "ipython",
    "version": 3
   },
   "file_extension": ".py",
   "mimetype": "text/x-python",
   "name": "python",
   "nbconvert_exporter": "python",
   "pygments_lexer": "ipython3",
   "version": "3.8.8"
  },
  "orig_nbformat": 4
 },
 "nbformat": 4,
 "nbformat_minor": 2
}

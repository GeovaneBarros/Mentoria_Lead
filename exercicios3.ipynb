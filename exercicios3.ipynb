{
 "cells": [
  {
   "cell_type": "markdown",
   "source": [
    "Utilize o dataset MNIST.\n",
    "\n",
    "Realize a classificação utilizando o kNN, Decision Tree e Random Forest, Naive Bayes Gaussiano e calcule algumas métricas.\n",
    "\n",
    "Utilize o K-means. Realize experimentos com 10 clusters e uma quantidade incorreta de clusters.\n",
    "\n",
    "Realize diferentes experimentos, mudando o k do kNN (utilize o GridSearch), o número de florestas no Random Forest (utilize o RandomSearch), e o ‘critério’ do Decision Tree (utilize o GridSearch).\n",
    "\n",
    "Utilize o t-SNE para redução de dimensionalidade.\n",
    "\n",
    "Realize a normalização e padronização dos dados, utilize o melhor classificador.\n",
    "\n",
    "Discuta os resultados.\n"
   ],
   "metadata": {}
  },
  {
   "cell_type": "markdown",
   "source": [
    "## Importação dos dados"
   ],
   "metadata": {}
  },
  {
   "cell_type": "code",
   "execution_count": 2,
   "source": [
    "import numpy as np\n",
    "import keras\n",
    "import pandas as pd\n",
    "import matplotlib.pyplot as plt\n",
    "%matplotlib inline\n",
    "from sklearn.naive_bayes import GaussianNB\n",
    "from sklearn.preprocessing import Normalizer, StandardScaler\n",
    "from sklearn.ensemble import RandomForestClassifier\n",
    "from sklearn.neighbors import KNeighborsClassifier\n",
    "from sklearn.tree import DecisionTreeClassifier\n",
    "from sklearn.svm import SVC\n",
    "from sklearn.manifold import TSNE\n",
    "from sklearn.cluster import KMeans\n",
    "from sklearn.model_selection import GridSearchCV, RandomizedSearchCV\n",
    "from sklearn.metrics import accuracy_score, confusion_matrix, ConfusionMatrixDisplay, classification_report"
   ],
   "outputs": [],
   "metadata": {}
  },
  {
   "cell_type": "code",
   "execution_count": 3,
   "source": [
    "(X_train,y_train), ( X_test, y_test) = keras.datasets.mnist.load_data()\n"
   ],
   "outputs": [],
   "metadata": {}
  },
  {
   "cell_type": "code",
   "execution_count": 4,
   "source": [
    "X_train = np.reshape(X_train, (60000,784))\n",
    "X_test = np.reshape(X_test, (10000,784))"
   ],
   "outputs": [],
   "metadata": {}
  },
  {
   "cell_type": "markdown",
   "source": [
    "## Normalizando e padronizando os dados"
   ],
   "metadata": {}
  },
  {
   "cell_type": "code",
   "execution_count": 5,
   "source": [
    "transformer = Normalizer().fit(X_train)\n",
    "X_train = transformer.transform(X_train)\n",
    "transformer = Normalizer().fit(X_test)\n",
    "X_test = transformer.transform(X_test)"
   ],
   "outputs": [],
   "metadata": {}
  },
  {
   "cell_type": "code",
   "execution_count": 5,
   "source": [
    "transformer = StandardScaler().fit(X_train)\n",
    "X_train = transformer.transform(X_train)\n",
    "transformer = StandardScaler().fit(X_test)\n",
    "X_test = transformer.transform(X_test)"
   ],
   "outputs": [],
   "metadata": {}
  },
  {
   "cell_type": "markdown",
   "source": [
    "## Funções"
   ],
   "metadata": {}
  },
  {
   "cell_type": "code",
   "execution_count": 21,
   "source": [
    "def KNN(X_train, y_train, n):\n",
    "    modelo = KNeighborsClassifier(n_neighbors=n)\n",
    "    return modelo.fit(X_train, y_train)\n",
    "\n",
    "def decision_tree(X_train, y_train, c):\n",
    "    modelo = DecisionTreeClassifier(criterion=c)\n",
    "    return modelo.fit(X_train, y_train)\n",
    "\n",
    "def random_forest(X_train, y_train, n):\n",
    "    modelo = RandomForestClassifier(n_estimators=n)\n",
    "    return modelo.fit(X_train, y_train)\n",
    "\n",
    "def vector_classificator(X_train, y_train):\n",
    "    modelo = SVC()\n",
    "    return modelo.fit(X_train, y_train)\n",
    "\n",
    "def naive_bayes_gaussian(X_train, y_train):\n",
    "    modelo = GaussianNB()\n",
    "    return modelo.fit(X_train, y_train)\n",
    "\n",
    "def k_means(X_train,n):\n",
    "    modelo = KMeans(n_clusters=n)\n",
    "    return modelo.fit(X_train)\n",
    "def print_matriz_confusao(y_test, y_predict):\n",
    "    cm = confusion_matrix(y_test, y_predict)\n",
    "    disp = ConfusionMatrixDisplay(confusion_matrix=cm)\n",
    "    disp.plot()"
   ],
   "outputs": [],
   "metadata": {}
  },
  {
   "cell_type": "markdown",
   "source": [
    "## Treinando modelo"
   ],
   "metadata": {}
  },
  {
   "cell_type": "markdown",
   "source": [
    "### Classificação por K-Vizinhos "
   ],
   "metadata": {}
  },
  {
   "cell_type": "code",
   "execution_count": 25,
   "source": [
    "modelo_knn = KNN(X_train, y_train, 3)\n",
    "knn_predict = modelo_knn.predict(X_test)"
   ],
   "outputs": [],
   "metadata": {}
  },
  {
   "cell_type": "code",
   "execution_count": 26,
   "source": [
    "print('Precisão')\n",
    "print(accuracy_score(y_test, knn_predict))\n",
    "print('Resumo')\n",
    "print(classification_report(y_test, knn_predict))"
   ],
   "outputs": [
    {
     "output_type": "stream",
     "name": "stdout",
     "text": [
      "Precisão\n",
      "0.9733\n",
      "Resumo\n",
      "              precision    recall  f1-score   support\n",
      "\n",
      "           0       0.96      1.00      0.98       980\n",
      "           1       0.97      1.00      0.98      1135\n",
      "           2       0.98      0.97      0.98      1032\n",
      "           3       0.97      0.97      0.97      1010\n",
      "           4       0.98      0.96      0.97       982\n",
      "           5       0.97      0.96      0.97       892\n",
      "           6       0.98      0.99      0.98       958\n",
      "           7       0.98      0.97      0.97      1028\n",
      "           8       0.98      0.96      0.97       974\n",
      "           9       0.95      0.96      0.96      1009\n",
      "\n",
      "    accuracy                           0.97     10000\n",
      "   macro avg       0.97      0.97      0.97     10000\n",
      "weighted avg       0.97      0.97      0.97     10000\n",
      "\n"
     ]
    }
   ],
   "metadata": {}
  },
  {
   "cell_type": "markdown",
   "source": [
    "### Classificação por arvore de decisão"
   ],
   "metadata": {}
  },
  {
   "cell_type": "code",
   "execution_count": 12,
   "source": [
    "modelo_decision_tree = decision_tree(X_train, y_train, 'gini')\n",
    "decision_tree_predict = modelo_decision_tree.predict(X_test)"
   ],
   "outputs": [],
   "metadata": {}
  },
  {
   "cell_type": "code",
   "execution_count": 14,
   "source": [
    "print('Precisão')\n",
    "print(accuracy_score(y_test,decision_tree_predict))\n",
    "print('Resumo')\n",
    "print(classification_report(y_test,decision_tree_predict))"
   ],
   "outputs": [
    {
     "output_type": "stream",
     "name": "stdout",
     "text": [
      "Precisão\n",
      "0.8786\n",
      "Resumo\n",
      "              precision    recall  f1-score   support\n",
      "\n",
      "           0       0.91      0.94      0.92       980\n",
      "           1       0.96      0.96      0.96      1135\n",
      "           2       0.86      0.85      0.85      1032\n",
      "           3       0.83      0.85      0.84      1010\n",
      "           4       0.88      0.89      0.88       982\n",
      "           5       0.83      0.84      0.84       892\n",
      "           6       0.89      0.88      0.89       958\n",
      "           7       0.92      0.90      0.91      1028\n",
      "           8       0.82      0.81      0.81       974\n",
      "           9       0.86      0.86      0.86      1009\n",
      "\n",
      "    accuracy                           0.88     10000\n",
      "   macro avg       0.88      0.88      0.88     10000\n",
      "weighted avg       0.88      0.88      0.88     10000\n",
      "\n"
     ]
    }
   ],
   "metadata": {}
  },
  {
   "cell_type": "markdown",
   "source": [
    "### Classificação por floresta aleatória"
   ],
   "metadata": {}
  },
  {
   "cell_type": "code",
   "execution_count": 17,
   "source": [
    "modelo_random_forest = random_forest(X_train, y_train, 75)\n",
    "random_forest_predict = modelo_random_forest.predict(X_test)"
   ],
   "outputs": [],
   "metadata": {}
  },
  {
   "cell_type": "code",
   "execution_count": 18,
   "source": [
    "print('Precisão')\n",
    "print(accuracy_score(y_test, random_forest_predict))\n",
    "print('Resumo')\n",
    "print(classification_report(y_test, random_forest_predict))"
   ],
   "outputs": [
    {
     "output_type": "stream",
     "name": "stdout",
     "text": [
      "Precisão\n",
      "0.9695\n",
      "Resumo\n",
      "              precision    recall  f1-score   support\n",
      "\n",
      "           0       0.97      0.99      0.98       980\n",
      "           1       0.99      0.99      0.99      1135\n",
      "           2       0.96      0.97      0.97      1032\n",
      "           3       0.95      0.97      0.96      1010\n",
      "           4       0.98      0.97      0.97       982\n",
      "           5       0.97      0.96      0.96       892\n",
      "           6       0.97      0.98      0.98       958\n",
      "           7       0.97      0.96      0.97      1028\n",
      "           8       0.96      0.95      0.96       974\n",
      "           9       0.96      0.95      0.96      1009\n",
      "\n",
      "    accuracy                           0.97     10000\n",
      "   macro avg       0.97      0.97      0.97     10000\n",
      "weighted avg       0.97      0.97      0.97     10000\n",
      "\n"
     ]
    }
   ],
   "metadata": {}
  },
  {
   "cell_type": "markdown",
   "source": [
    "### Classificação SVC"
   ],
   "metadata": {}
  },
  {
   "cell_type": "code",
   "execution_count": 31,
   "source": [
    "modelo_svc = vector_classificator(X_train, y_train)\n",
    "svc_predict = modelo_svc.predict(X_test)\n",
    "print('Precisão')\n",
    "print(accuracy_score(y_test, svc_predict))"
   ],
   "outputs": [
    {
     "output_type": "stream",
     "name": "stdout",
     "text": [
      "Precisão\n",
      "0.9792\n"
     ]
    }
   ],
   "metadata": {}
  },
  {
   "cell_type": "markdown",
   "source": [
    "### Classificação Naive Bayes Gaussian"
   ],
   "metadata": {}
  },
  {
   "cell_type": "code",
   "execution_count": 34,
   "source": [
    "modelo_bayes_gaussian = naive_bayes_gaussian(X_train, y_train)\n",
    "nbg_predict = modelo_bayes_gaussian.predict(X_test)\n",
    "print('Precisão')\n",
    "print(accuracy_score(y_test, nbg_predict))"
   ],
   "outputs": [
    {
     "output_type": "stream",
     "name": "stdout",
     "text": [
      "Precisão\n",
      "0.5558\n"
     ]
    }
   ],
   "metadata": {}
  },
  {
   "cell_type": "markdown",
   "source": [
    "### Cluster Kmeans"
   ],
   "metadata": {}
  },
  {
   "cell_type": "code",
   "execution_count": 24,
   "source": [
    "modelo = k_means(X_train, 10)\n",
    "y_predict = modelo.predict(X_test)"
   ],
   "outputs": [],
   "metadata": {}
  },
  {
   "cell_type": "code",
   "execution_count": 70,
   "source": [
    "df = pd.DataFrame(y_predict, columns = ['Column_A'])"
   ],
   "outputs": [],
   "metadata": {}
  },
  {
   "cell_type": "code",
   "execution_count": 65,
   "source": [
    "plt.bar([x for x in range(10)], df['Column_A'].value_counts())\n",
    "plt.show()"
   ],
   "outputs": [
    {
     "output_type": "display_data",
     "data": {
      "image/png": "[encoded data removed]",
      "text/plain": [
       "<Figure size 432x288 with 1 Axes>"
      ]
     },
     "metadata": {
      "needs_background": "light"
     }
    }
   ],
   "metadata": {}
  },
  {
   "cell_type": "markdown",
   "source": [
    "## Melhorando os classificadores"
   ],
   "metadata": {}
  },
  {
   "cell_type": "markdown",
   "source": [
    "### KNN melhorado"
   ],
   "metadata": {}
  },
  {
   "cell_type": "code",
   "execution_count": 9,
   "source": [
    "best_precision_knn = 0.9705\n",
    "k_vizinhos = 3\n",
    "for i in range(5,9, 2):\n",
    "    new_modelo_knn = KNN(X_train, y_train, i)\n",
    "    new_predict = new_modelo_knn.predict(X_test)\n",
    "    precision = accuracy_score(y_test, new_predict)\n",
    "    if precision > best_precision_knn:\n",
    "        best_precision_knn = precision\n",
    "        k_vizinhos = i\n",
    "\n",
    "print(f'A melhor precisão do KNN foi {best_precision_knn} com o numero de vizinhos igual a {k_vizinhos}')"
   ],
   "outputs": [
    {
     "output_type": "stream",
     "name": "stdout",
     "text": [
      "A melhor precisão do KNN foi 0.9705 com o numero de vizinhos igual a 3\n"
     ]
    }
   ],
   "metadata": {}
  },
  {
   "cell_type": "markdown",
   "source": [
    "### Arvore de decisão melhorada"
   ],
   "metadata": {}
  },
  {
   "cell_type": "code",
   "execution_count": 18,
   "source": [
    "best_precision_decision_tree = 0.8765\n",
    "criterio = 'gini'\n",
    "\n",
    "new_modelo_decision_tree = decision_tree(X_train, y_train, 'entropy')\n",
    "new_decision_tree_predict = new_modelo_decision_tree.predict(X_test)\n",
    "\n",
    "new_decision_tree_precision = accuracy_score(y_test, new_decision_tree_predict)\n",
    "\n",
    "if new_decision_tree_precision > best_precision_decision_tree:\n",
    "    best_precision_decision_tree = new_decision_tree_precision\n",
    "    criterio = 'entropy'\n",
    "\n",
    "print(f'Melhor critério de decisão para arvore de decisão é {criterio} com precisão de {best_precision_decision_tree}')"
   ],
   "outputs": [
    {
     "output_type": "stream",
     "name": "stdout",
     "text": [
      "Melhor critério de decisão para arvore de decisão é entropy com precisão de 0.8857\n"
     ]
    }
   ],
   "metadata": {}
  },
  {
   "cell_type": "markdown",
   "source": [
    "### Floresta aleatória melhorada"
   ],
   "metadata": {}
  },
  {
   "cell_type": "code",
   "execution_count": 20,
   "source": [
    "best_precision_random_florest = 0.9695\n",
    "num_arvores = 75\n",
    "for i in range(100,200, 25):\n",
    "    new_modelo_random_forest = random_forest(X_train, y_train, i)\n",
    "    new_predict = new_modelo_random_forest.predict(X_test)\n",
    "    precision = accuracy_score(y_test, new_predict)\n",
    "    if precision > best_precision_random_florest:\n",
    "        best_precision_random_florest = precision\n",
    "        num_arvores = i\n",
    "\n",
    "print(f'Quantidade de arvores para obter melhor precisão na Floresta Aleatória é {num_arvores} com valor de {best_precision_random_florest}')"
   ],
   "outputs": [
    {
     "output_type": "stream",
     "name": "stdout",
     "text": [
      "Quantidade de arvores para obter melhor precisão na Floresta Aleatória é 175 com valor de 0.9716\n"
     ]
    }
   ],
   "metadata": {}
  },
  {
   "cell_type": "markdown",
   "source": [
    "## Plot Decision Surface"
   ],
   "metadata": {}
  },
  {
   "cell_type": "code",
   "execution_count": 49,
   "source": [
    "modelo = TSNE(n_components=2, random_state=0)\n",
    "X_train_tsne = modelo.fit_transform(X_train[1:10000,:])"
   ],
   "outputs": [],
   "metadata": {}
  },
  {
   "cell_type": "code",
   "execution_count": 58,
   "source": [
    "plt.scatter(X_train_tsne[:, 0], X_train_tsne[:,1], c=y_train[1:10000],cmap='rainbow')\n",
    "plt.show"
   ],
   "outputs": [
    {
     "output_type": "execute_result",
     "data": {
      "text/plain": [
       "<function matplotlib.pyplot.show(close=None, block=None)>"
      ]
     },
     "metadata": {},
     "execution_count": 58
    },
    {
     "output_type": "display_data",
     "data": {
      "image/png": "[encoded data removed]",
      "text/plain": [
       "<Figure size 432x288 with 1 Axes>"
      ]
     },
     "metadata": {
      "needs_background": "light"
     }
    }
   ],
   "metadata": {}
  },
  {
   "cell_type": "markdown",
   "source": [
    "## Testes com normalização"
   ],
   "metadata": {}
  },
  {
   "cell_type": "code",
   "execution_count": 67,
   "source": [
    "modelo_knn = KNN(X_train_processed, y_train, 3)\n",
    "knn_predict = modelo_knn.predict(X_test_processed)\n",
    "print('Precisão')\n",
    "print(accuracy_score(y_test, knn_predict))"
   ],
   "outputs": [
    {
     "output_type": "stream",
     "name": "stdout",
     "text": [
      "Precisão\n",
      "0.9441\n"
     ]
    }
   ],
   "metadata": {}
  },
  {
   "cell_type": "code",
   "execution_count": 69,
   "source": [
    "print_matriz_confusao(y_test, knn_predict)"
   ],
   "outputs": [
    {
     "output_type": "display_data",
     "data": {
      "image/png": "[encoded data removed]",
      "text/plain": [
       "<Figure size 432x288 with 2 Axes>"
      ]
     },
     "metadata": {
      "needs_background": "light"
     }
    }
   ],
   "metadata": {}
  },
  {
   "cell_type": "code",
   "execution_count": 26,
   "source": [
    "modelo_decision_tree = decision_tree(X_train_processed, y_train, 'entropy')\n",
    "decision_tree_predict = modelo_decision_tree.predict(X_test_processed)\n",
    "print('Precisão')\n",
    "print(accuracy_score(y_test, decision_tree_predict))"
   ],
   "outputs": [
    {
     "output_type": "stream",
     "name": "stdout",
     "text": [
      "Precisão\n",
      "0.8377\n"
     ]
    }
   ],
   "metadata": {}
  },
  {
   "cell_type": "code",
   "execution_count": 27,
   "source": [
    "modelo_random_forest = random_forest(X_train_processed, y_train,175)\n",
    "random_florest_predict = modelo_random_forest.predict(X_test_processed)\n",
    "print('Precisão')\n",
    "print(accuracy_score(y_test, random_florest_predict))"
   ],
   "outputs": [
    {
     "output_type": "stream",
     "name": "stdout",
     "text": [
      "Precisão\n",
      "0.9618\n"
     ]
    }
   ],
   "metadata": {}
  },
  {
   "cell_type": "markdown",
   "source": [
    "## Melhorando classificadores parte 2"
   ],
   "metadata": {}
  },
  {
   "cell_type": "markdown",
   "source": [
    "### Grid Search with KNN"
   ],
   "metadata": {}
  },
  {
   "cell_type": "code",
   "execution_count": 13,
   "source": [
    "lista = [x for x in range(3,16,2)]\n",
    "params = {'n_neighbors':lista}\n",
    "knn = KNeighborsClassifier()\n",
    "clf = GridSearchCV(knn, params)\n",
    "clf.fit(X_train, y_train)"
   ],
   "outputs": [
    {
     "output_type": "execute_result",
     "data": {
      "text/plain": [
       "GridSearchCV(estimator=KNeighborsClassifier(),\n",
       "             param_grid={'n_neighbors': [3, 5, 7, 9, 11, 13, 15]})"
      ]
     },
     "metadata": {},
     "execution_count": 13
    }
   ],
   "metadata": {}
  },
  {
   "cell_type": "code",
   "execution_count": 16,
   "source": [
    "predict = clf.predict(X_test)\n",
    "print('Precisão')\n",
    "print(accuracy_score(y_test, predict))"
   ],
   "outputs": [
    {
     "output_type": "stream",
     "name": "stdout",
     "text": [
      "Precisão\n",
      "0.9705\n"
     ]
    }
   ],
   "metadata": {}
  },
  {
   "cell_type": "markdown",
   "source": [
    "### Random Search with Random Forest"
   ],
   "metadata": {}
  },
  {
   "cell_type": "code",
   "execution_count": 33,
   "source": [
    "lista = [x for x in range(25,176,25)]\n",
    "modelo = RandomForestClassifier()\n",
    "params = {'n_estimators':lista}\n",
    "clf = RandomizedSearchCV(modelo, params, n_iter=3)\n",
    "clf.fit(X_train,y_train)"
   ],
   "outputs": [
    {
     "output_type": "execute_result",
     "data": {
      "text/plain": [
       "RandomizedSearchCV(estimator=RandomForestClassifier(), n_iter=1, n_jobs=-1,\n",
       "                   param_distributions={'n_estimators': [25, 50, 75, 100]})"
      ]
     },
     "metadata": {},
     "execution_count": 33
    }
   ],
   "metadata": {}
  },
  {
   "cell_type": "code",
   "execution_count": 34,
   "source": [
    "predict = clf.predict(X_test)\n",
    "print('Precisao')\n",
    "print(accuracy_score(y_test, predict))"
   ],
   "outputs": [
    {
     "output_type": "stream",
     "name": "stdout",
     "text": [
      "Precisao\n",
      "0.9628\n"
     ]
    }
   ],
   "metadata": {}
  },
  {
   "cell_type": "markdown",
   "source": [
    "### Random search Decision tree "
   ],
   "metadata": {}
  },
  {
   "cell_type": "code",
   "execution_count": 6,
   "source": [
    "modelo = DecisionTreeClassifier()\n",
    "params = {'splitter':['best', 'random'], 'criterion':['gini','entropy']}\n",
    "clf = RandomizedSearchCV(modelo, params, n_iter=3)\n",
    "clf.fit(X_train,y_train)"
   ],
   "outputs": [
    {
     "output_type": "execute_result",
     "data": {
      "text/plain": [
       "RandomizedSearchCV(estimator=DecisionTreeClassifier(), n_iter=3,\n",
       "                   param_distributions={'criterion': ['gini', 'entropy'],\n",
       "                                        'splitter': ['best', 'random']})"
      ]
     },
     "metadata": {},
     "execution_count": 6
    }
   ],
   "metadata": {}
  },
  {
   "cell_type": "code",
   "execution_count": 7,
   "source": [
    "y_predict = clf.predict(X_test)\n",
    "print('Precisão')\n",
    "print(accuracy_score(y_test, y_predict))"
   ],
   "outputs": [
    {
     "output_type": "stream",
     "name": "stdout",
     "text": [
      "Precisão\n",
      "0.883\n"
     ]
    }
   ],
   "metadata": {}
  }
 ],
 "metadata": {
  "orig_nbformat": 4,
  "language_info": {
   "name": "python",
   "version": "3.8.8",
   "mimetype": "text/x-python",
   "codemirror_mode": {
    "name": "ipython",
    "version": 3
   },
   "pygments_lexer": "ipython3",
   "nbconvert_exporter": "python",
   "file_extension": ".py"
  },
  "kernelspec": {
   "name": "python3",
   "display_name": "Python 3.8.8 64-bit ('base': conda)"
  },
  "interpreter": {
   "hash": "f177ad86c4b5ee2186f8b95dd21ff241dedfa76ee0439168488eec7625d4ea20"
  }
 },
 "nbformat": 4,
 "nbformat_minor": 2
}
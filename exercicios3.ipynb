{
 "cells": [
  {
   "cell_type": "markdown",
   "metadata": {},
   "source": [
    "## Questões"
   ]
  },
  {
   "cell_type": "markdown",
   "metadata": {},
   "source": [
    "Utilize o dataset MNIST.\n",
    "\n",
    "Realize a classificação utilizando o kNN, Decision Tree, Random Forest, Naive Bayes Gaussiano, MLP e SVM. Calcule métricas adequadas para o problema e justifique suas escolhas.\n",
    "\n",
    "Utilize o K-means. Realize experimentos com 10 clusters.\n",
    "\n",
    "Realize diferentes experimentos (o uso de técnicas de otimização de hiperparametros é opcional). Altere:\n",
    "k do kNN\n",
    "número de florestas no Random Forest\n",
    "‘critério’ do Decision Tree\n",
    "quantidade de neurônios no MLP para uma e duas camadas ocultas.\n",
    "kernel, C, degree,  do SVM (observe que são diferentes hiperparametros para cada kernel)\n",
    "\n",
    "Utilize o t-SNE para redução de dimensionalidade.\n",
    "\n",
    "Realize a normalização e padronização dos dados, utilize o melhor classificador.\n",
    "\n",
    "Discuta os resultados.\n"
   ]
  },
  {
   "cell_type": "markdown",
   "metadata": {},
   "source": [
    "## Importação dos dados"
   ]
  },
  {
   "cell_type": "code",
   "execution_count": 2,
   "metadata": {},
   "outputs": [],
   "source": [
    "import numpy as np\n",
    "import seaborn as sb\n",
    "import keras\n",
    "import pandas as pd\n",
    "from sklearn.neural_network import MLPClassifier\n",
    "import matplotlib.pyplot as plt\n",
    "%matplotlib inline\n",
    "from sklearn.naive_bayes import GaussianNB\n",
    "from sklearn.preprocessing import Normalizer, StandardScaler\n",
    "from sklearn.ensemble import RandomForestClassifier\n",
    "from sklearn.neighbors import KNeighborsClassifier\n",
    "from sklearn.tree import DecisionTreeClassifier\n",
    "from sklearn.svm import SVC\n",
    "from sklearn.manifold import TSNE\n",
    "from sklearn.cluster import KMeans\n",
    "from sklearn.model_selection import GridSearchCV, RandomizedSearchCV\n",
    "from sklearn.metrics import accuracy_score, confusion_matrix, ConfusionMatrixDisplay, classification_report"
   ]
  },
  {
   "cell_type": "code",
   "execution_count": 3,
   "metadata": {},
   "outputs": [],
   "source": [
    "(X_train,y_train), ( X_test, y_test) = keras.datasets.mnist.load_data()\n"
   ]
  },
  {
   "cell_type": "code",
   "execution_count": 4,
   "metadata": {},
   "outputs": [],
   "source": [
    "X_train = np.reshape(X_train, (60000,784))\n",
    "X_test = np.reshape(X_test, (10000,784))"
   ]
  },
  {
   "cell_type": "markdown",
   "metadata": {},
   "source": [
    "## Normalizando e padronizando os dados"
   ]
  },
  {
   "cell_type": "code",
   "execution_count": 5,
   "metadata": {},
   "outputs": [],
   "source": [
    "transformer = Normalizer().fit(X_train)\n",
    "X_train = transformer.transform(X_train)\n",
    "transformer = Normalizer().fit(X_test)\n",
    "X_test = transformer.transform(X_test)"
   ]
  },
  {
   "cell_type": "code",
   "execution_count": 8,
   "metadata": {},
   "outputs": [],
   "source": [
    "transformer = StandardScaler().fit(X_train)\n",
    "X_train = transformer.transform(X_train)\n",
    "transformer = StandardScaler().fit(X_test)\n",
    "X_test = transformer.transform(X_test)"
   ]
  },
  {
   "cell_type": "markdown",
   "metadata": {},
   "source": [
    "## Treinando modelo"
   ]
  },
  {
   "cell_type": "markdown",
   "metadata": {},
   "source": [
    "### Classificação por K-Vizinhos "
   ]
  },
  {
   "cell_type": "code",
   "execution_count": 12,
   "metadata": {},
   "outputs": [],
   "source": [
    "modelo = KNeighborsClassifier().fit(X_train, y_train) \n",
    "knn_predict = modelo.predict(X_test)"
   ]
  },
  {
   "cell_type": "code",
   "execution_count": 13,
   "metadata": {},
   "outputs": [
    {
     "name": "stdout",
     "output_type": "stream",
     "text": [
      "Precisão\n",
      "0.9415\n",
      "Resumo\n",
      "              precision    recall  f1-score   support\n",
      "\n",
      "           0       0.93      0.98      0.95       980\n",
      "           1       0.96      0.99      0.98      1135\n",
      "           2       0.95      0.93      0.94      1032\n",
      "           3       0.92      0.95      0.94      1010\n",
      "           4       0.96      0.93      0.95       982\n",
      "           5       0.94      0.91      0.92       892\n",
      "           6       0.95      0.97      0.96       958\n",
      "           7       0.92      0.94      0.93      1028\n",
      "           8       0.95      0.89      0.92       974\n",
      "           9       0.92      0.91      0.92      1009\n",
      "\n",
      "    accuracy                           0.94     10000\n",
      "   macro avg       0.94      0.94      0.94     10000\n",
      "weighted avg       0.94      0.94      0.94     10000\n",
      "\n"
     ]
    }
   ],
   "source": [
    "print('Precisão')\n",
    "print(accuracy_score(y_test, knn_predict))\n",
    "print('Resumo')\n",
    "print(classification_report(y_test, knn_predict))"
   ]
  },
  {
   "cell_type": "markdown",
   "metadata": {},
   "source": [
    "### Classificação por arvore de decisão"
   ]
  },
  {
   "cell_type": "code",
   "execution_count": 12,
   "metadata": {},
   "outputs": [],
   "source": [
    "modelo= DecisionTreeClassifier().fit(X_train, y_train)\n",
    "decision_tree_predict = modelo.predict(X_test)"
   ]
  },
  {
   "cell_type": "code",
   "execution_count": 14,
   "metadata": {},
   "outputs": [
    {
     "name": "stdout",
     "output_type": "stream",
     "text": [
      "Precisão\n",
      "0.8786\n",
      "Resumo\n",
      "              precision    recall  f1-score   support\n",
      "\n",
      "           0       0.91      0.94      0.92       980\n",
      "           1       0.96      0.96      0.96      1135\n",
      "           2       0.86      0.85      0.85      1032\n",
      "           3       0.83      0.85      0.84      1010\n",
      "           4       0.88      0.89      0.88       982\n",
      "           5       0.83      0.84      0.84       892\n",
      "           6       0.89      0.88      0.89       958\n",
      "           7       0.92      0.90      0.91      1028\n",
      "           8       0.82      0.81      0.81       974\n",
      "           9       0.86      0.86      0.86      1009\n",
      "\n",
      "    accuracy                           0.88     10000\n",
      "   macro avg       0.88      0.88      0.88     10000\n",
      "weighted avg       0.88      0.88      0.88     10000\n",
      "\n"
     ]
    }
   ],
   "source": [
    "print('Precisão')\n",
    "print(accuracy_score(y_test,decision_tree_predict))\n",
    "print('Resumo')\n",
    "print(classification_report(y_test,decision_tree_predict))"
   ]
  },
  {
   "cell_type": "markdown",
   "metadata": {},
   "source": [
    "### Classificação por floresta aleatória"
   ]
  },
  {
   "cell_type": "code",
   "execution_count": 7,
   "metadata": {},
   "outputs": [],
   "source": [
    "modelo = RandomForestClassifier().fit(X_train, y_train)\n",
    "random_forest_predict = modelo.predict(X_test)"
   ]
  },
  {
   "cell_type": "code",
   "execution_count": 8,
   "metadata": {},
   "outputs": [
    {
     "name": "stdout",
     "output_type": "stream",
     "text": [
      "Precisão\n",
      "0.9698\n",
      "Resumo\n",
      "              precision    recall  f1-score   support\n",
      "\n",
      "           0       0.97      0.99      0.98       980\n",
      "           1       0.99      0.99      0.99      1135\n",
      "           2       0.96      0.97      0.97      1032\n",
      "           3       0.96      0.96      0.96      1010\n",
      "           4       0.97      0.98      0.97       982\n",
      "           5       0.98      0.96      0.97       892\n",
      "           6       0.98      0.98      0.98       958\n",
      "           7       0.97      0.96      0.97      1028\n",
      "           8       0.96      0.95      0.96       974\n",
      "           9       0.96      0.95      0.96      1009\n",
      "\n",
      "    accuracy                           0.97     10000\n",
      "   macro avg       0.97      0.97      0.97     10000\n",
      "weighted avg       0.97      0.97      0.97     10000\n",
      "\n"
     ]
    }
   ],
   "source": [
    "print('Precisão')\n",
    "print(accuracy_score(y_test, random_forest_predict))\n",
    "print('Resumo')\n",
    "print(classification_report(y_test, random_forest_predict))"
   ]
  },
  {
   "cell_type": "markdown",
   "metadata": {},
   "source": [
    "### Classificação SVC"
   ]
  },
  {
   "cell_type": "code",
   "execution_count": 131,
   "metadata": {},
   "outputs": [
    {
     "name": "stdout",
     "output_type": "stream",
     "text": [
      "Precisão\n",
      "0.9811\n"
     ]
    }
   ],
   "source": [
    "modelo = SVC().fit(X_train, y_train)\n",
    "svc_predict = modelo.predict(X_test)\n",
    "print('Precisão')\n",
    "print(accuracy_score(y_test, svc_predict))"
   ]
  },
  {
   "cell_type": "markdown",
   "metadata": {},
   "source": [
    "### Classificação Naive Bayes Gaussian"
   ]
  },
  {
   "cell_type": "code",
   "execution_count": 34,
   "metadata": {},
   "outputs": [
    {
     "name": "stdout",
     "output_type": "stream",
     "text": [
      "Precisão\n",
      "0.5558\n"
     ]
    }
   ],
   "source": [
    "modelo = GaussianNB().fit(X_train, y_train)\n",
    "nbg_predict = modelo.predict(X_test)\n",
    "print('Precisão')\n",
    "print(accuracy_score(y_test, nbg_predict))"
   ]
  },
  {
   "cell_type": "markdown",
   "metadata": {},
   "source": [
    "### MLP"
   ]
  },
  {
   "cell_type": "code",
   "execution_count": 14,
   "metadata": {},
   "outputs": [
    {
     "name": "stdout",
     "output_type": "stream",
     "text": [
      "Precisão\n",
      "0.9769\n"
     ]
    }
   ],
   "source": [
    "modelo = MLPClassifier().fit(X_train, y_train)\n",
    "y_predict = modelo.predict(X_test)\n",
    "print('Precisão')\n",
    "print(accuracy_score(y_test, y_predict))"
   ]
  },
  {
   "cell_type": "markdown",
   "metadata": {},
   "source": [
    "## TSNE"
   ]
  },
  {
   "cell_type": "code",
   "execution_count": 126,
   "metadata": {},
   "outputs": [],
   "source": [
    "modelo = TSNE(n_components=2, random_state=0)\n",
    "X_train_tsne = modelo.fit_transform(X_train[1:1000,:])"
   ]
  },
  {
   "cell_type": "code",
   "execution_count": 127,
   "metadata": {},
   "outputs": [],
   "source": [
    "df = {}\n",
    "df['x'] = X_train_tsne[:, 0]\n",
    "df['y'] = X_train_tsne[:,1]\n",
    "df['target'] =  y_train[1:1000]\n",
    "df = pd.DataFrame(df)"
   ]
  },
  {
   "cell_type": "code",
   "execution_count": 129,
   "metadata": {},
   "outputs": [
    {
     "data": {
      "text/plain": [
       "<seaborn.axisgrid.PairGrid at 0x7fb88dd85190>"
      ]
     },
     "execution_count": 129,
     "metadata": {},
     "output_type": "execute_result"
    },
    {
     "data": {
      "image/png": "[encoded data removed]",
      "text/plain": [
       "<Figure size 402.375x360 with 6 Axes>"
      ]
     },
     "metadata": {
      "needs_background": "light"
     },
     "output_type": "display_data"
    }
   ],
   "source": [
    "sb.pairplot(df, hue ='target')"
   ]
  },
  {
   "cell_type": "markdown",
   "metadata": {},
   "source": [
    "## Melhorando classificadores"
   ]
  },
  {
   "cell_type": "markdown",
   "metadata": {},
   "source": [
    "### KNN Melhorado"
   ]
  },
  {
   "cell_type": "code",
   "execution_count": 30,
   "metadata": {},
   "outputs": [
    {
     "name": "stdout",
     "output_type": "stream",
     "text": [
      "Acurácia com 1 vizinhos igual a: 0.9723\n",
      "Acurácia com 3 vizinhos igual a: 0.9733\n",
      "Acurácia com 5 vizinhos igual a: 0.973\n",
      "Acurácia com 7 vizinhos igual a: 0.9727\n",
      "Acurácia com 9 vizinhos igual a: 0.9717\n"
     ]
    }
   ],
   "source": [
    "for i in range(1,10,2):\n",
    "    modelo = KNeighborsClassifier(n_neighbors=i).fit(X_train, y_train)\n",
    "    print(f'Acurácia com {i} vizinhos igual a: {accuracy_score(y_test, modelo.predict(X_test))}')"
   ]
  },
  {
   "cell_type": "markdown",
   "metadata": {},
   "source": [
    "### Random Search melhorado"
   ]
  },
  {
   "cell_type": "code",
   "execution_count": 31,
   "metadata": {},
   "outputs": [
    {
     "name": "stdout",
     "output_type": "stream",
     "text": [
      "Acurácia com 25 vizinhos igual a: 0.968\n",
      "Acurácia com 50 vizinhos igual a: 0.9678\n",
      "Acurácia com 75 vizinhos igual a: 0.9682\n",
      "Acurácia com 100 vizinhos igual a: 0.9682\n",
      "Acurácia com 125 vizinhos igual a: 0.9669\n",
      "Acurácia com 150 vizinhos igual a: 0.9681\n",
      "Acurácia com 175 vizinhos igual a: 0.9691\n"
     ]
    }
   ],
   "source": [
    "for i in range(25,176,25):\n",
    "    modelo = RandomForestClassifier(max_depth=i).fit(X_train, y_train)\n",
    "    print(f'Acurácia com {i} de profundidade máxima igual a: {accuracy_score(y_test, modelo.predict(X_test))}')\n"
   ]
  },
  {
   "cell_type": "markdown",
   "metadata": {},
   "source": [
    "### Random search Decision tree "
   ]
  },
  {
   "cell_type": "code",
   "execution_count": 32,
   "metadata": {},
   "outputs": [
    {
     "name": "stdout",
     "output_type": "stream",
     "text": [
      "Precisão\n",
      "0.8828\n"
     ]
    }
   ],
   "source": [
    "modelo = DecisionTreeClassifier()\n",
    "params = {'splitter':['best', 'random'], 'criterion':['gini','entropy']}\n",
    "clf = RandomizedSearchCV(modelo, params, n_iter=3)\n",
    "clf.fit(X_train,y_train)\n",
    "y_predict = clf.predict(X_test)\n",
    "print('Precisão')\n",
    "print(accuracy_score(y_test, y_predict))"
   ]
  },
  {
   "cell_type": "markdown",
   "metadata": {},
   "source": [
    "### MLP Melhorado"
   ]
  },
  {
   "cell_type": "code",
   "execution_count": 8,
   "metadata": {},
   "outputs": [
    {
     "name": "stderr",
     "output_type": "stream",
     "text": [
      "/home/geovanebarros/anaconda3/lib/python3.8/site-packages/sklearn/neural_network/_multilayer_perceptron.py:614: ConvergenceWarning: Stochastic Optimizer: Maximum iterations (700) reached and the optimization hasn't converged yet.\n",
      "  warnings.warn(\n",
      "/home/geovanebarros/anaconda3/lib/python3.8/site-packages/sklearn/neural_network/_multilayer_perceptron.py:614: ConvergenceWarning: Stochastic Optimizer: Maximum iterations (700) reached and the optimization hasn't converged yet.\n",
      "  warnings.warn(\n",
      "/home/geovanebarros/anaconda3/lib/python3.8/site-packages/sklearn/neural_network/_multilayer_perceptron.py:614: ConvergenceWarning: Stochastic Optimizer: Maximum iterations (700) reached and the optimization hasn't converged yet.\n",
      "  warnings.warn(\n",
      "/home/geovanebarros/anaconda3/lib/python3.8/site-packages/sklearn/neural_network/_multilayer_perceptron.py:619: UserWarning: Training interrupted by user.\n",
      "  warnings.warn(\"Training interrupted by user.\")\n"
     ]
    }
   ],
   "source": [
    "params = {'hidden_layer_sizes': [(50,50),(100,),(75,25), (100, 100)], 'max_iter':[500,700], 'solver':['lbfgs', 'sgd','adam']}\n",
    "clf = RandomizedSearchCV(MLPClassifier(), params, n_iter=3)\n",
    "clf.fit(X_train,y_train)\n",
    "y_predict = clf.predict(X_test)\n",
    "print('Precisão')\n",
    "print(accuracy_score(y_test, y_predict))"
   ]
  },
  {
   "cell_type": "code",
   "execution_count": null,
   "metadata": {},
   "outputs": [],
   "source": [
    "params = {'kernel': ['linear','poly', 'rbf', 'sigmoid'], 'gamma':['scale', 'auto'], 'degree':[3,5,7]}\n",
    "clf = RandomizedSearchCV(MLPClassifier(), params, n_iter=3)\n",
    "clf.fit(X_train,y_train)\n",
    "y_predict = clf.predict(X_test)\n",
    "print('Precisão')\n",
    "print(accuracy_score(y_test, y_predict))"
   ]
  }
 ],
 "metadata": {
  "interpreter": {
   "hash": "ea1739ab543a4b410229dd1eb18854054f2f11dbbb2ce59b0d0244421c1efe7a"
  },
  "kernelspec": {
   "display_name": "Python 3.8.8 64-bit ('base': conda)",
   "name": "python3"
  },
  "language_info": {
   "codemirror_mode": {
    "name": "ipython",
    "version": 3
   },
   "file_extension": ".py",
   "mimetype": "text/x-python",
   "name": "python",
   "nbconvert_exporter": "python",
   "pygments_lexer": "ipython3",
   "version": "3.8.8"
  },
  "orig_nbformat": 4
 },
 "nbformat": 4,
 "nbformat_minor": 2
}

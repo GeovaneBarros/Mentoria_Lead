{
 "cells": [
  {
   "cell_type": "code",
   "execution_count": 21,
   "metadata": {},
   "outputs": [],
   "source": [
    "import re"
   ]
  },
  {
   "cell_type": "code",
   "execution_count": 2,
   "metadata": {},
   "outputs": [],
   "source": [
    "def number_valid(number):\n",
    "    if re.search('[-|+]?\\d+([.]\\d+)?',number):\n",
    "        return 'Valid'\n",
    "    else:\n",
    "        return 'Not valid'"
   ]
  },
  {
   "cell_type": "code",
   "execution_count": 3,
   "metadata": {},
   "outputs": [],
   "source": [
    "def phone_valid(number):   \n",
    "    value = re.search(\"(([(]\\d?\\d{2}[)])|(\\d?\\d{2})) ?\\d?\\d{4}[ |-]?\\d{4}\", number)\n",
    "    if value:\n",
    "        if value[0] == number:\n",
    "            return 'Valid'\n",
    "        return 'Not valid'"
   ]
  },
  {
   "cell_type": "code",
   "execution_count": 9,
   "metadata": {},
   "outputs": [],
   "source": [
    "def phone_formated(number):\n",
    "    if phone_valid(number)=='Valid':\n",
    "        number = re.sub(\"\\D\", '', number)\n",
    "        return f'({number[:2]}) {number[2:-4]}-{number[-4:]}'\n",
    "    else:\n",
    "        return None"
   ]
  },
  {
   "cell_type": "code",
   "execution_count": 14,
   "metadata": {},
   "outputs": [
    {
     "name": "stdout",
     "output_type": "stream",
     "text": [
      "(85) 99126-8186\n"
     ]
    }
   ],
   "source": [
    "print(phone_formated('(85) 00000000'))"
   ]
  },
  {
   "cell_type": "code",
   "execution_count": 2,
   "metadata": {},
   "outputs": [],
   "source": [
    "from PyPDF2 import PdfFileReader"
   ]
  },
  {
   "cell_type": "code",
   "execution_count": 4,
   "metadata": {},
   "outputs": [],
   "source": [
    "pdf = PdfFileReader('./SRC/Business_Proposal.pdf')"
   ]
  },
  {
   "cell_type": "code",
   "execution_count": 6,
   "metadata": {},
   "outputs": [],
   "source": [
    "page2 = pdf.getPage(1)"
   ]
  },
  {
   "cell_type": "code",
   "execution_count": 15,
   "metadata": {},
   "outputs": [],
   "source": [
    "text = page2.extractText()"
   ]
  },
  {
   "cell_type": "code",
   "execution_count": 16,
   "metadata": {},
   "outputs": [
    {
     "data": {
      "text/plain": [
       "'AUTHORS:\\n \\nAmy Baker, Finance Chair, x345, abaker@ourcompany.com\\n \\nChris Donaldson, Accounting Dir., x621, cdonaldson@ourcompany.com\\n \\nErin Freeman, Sr. VP, x879, efreeman@ourcompany.com\\n \\n'"
      ]
     },
     "execution_count": 16,
     "metadata": {},
     "output_type": "execute_result"
    }
   ],
   "source": [
    "text"
   ]
  },
  {
   "cell_type": "code",
   "execution_count": 12,
   "metadata": {},
   "outputs": [],
   "source": [
    "file = open('./results/pdf.txt', 'w')"
   ]
  },
  {
   "cell_type": "code",
   "execution_count": 17,
   "metadata": {},
   "outputs": [
    {
     "data": {
      "text/plain": [
       "189"
      ]
     },
     "execution_count": 17,
     "metadata": {},
     "output_type": "execute_result"
    }
   ],
   "source": [
    "file.write(text)"
   ]
  },
  {
   "cell_type": "code",
   "execution_count": 20,
   "metadata": {},
   "outputs": [],
   "source": [
    "file = open('./results/pdf.txt', 'r')\n",
    "text = file.read()"
   ]
  },
  {
   "cell_type": "code",
   "execution_count": 30,
   "metadata": {},
   "outputs": [
    {
     "data": {
      "text/plain": [
       "['abaker@ourcompany.com',\n",
       " 'cdonaldson@ourcompany.com',\n",
       " 'efreeman@ourcompany.com']"
      ]
     },
     "execution_count": 30,
     "metadata": {},
     "output_type": "execute_result"
    }
   ],
   "source": [
    "emails = re.findall('\\w*@.*.com', text)\n",
    "emails"
   ]
  }
 ],
 "metadata": {
  "interpreter": {
   "hash": "ecc69c7694d03f005ee6c0e6c9a247632233d80e197d705bb7164757d21e4370"
  },
  "kernelspec": {
   "display_name": "Python 3.8.8 64-bit ('base': conda)",
   "language": "python",
   "name": "python3"
  },
  "language_info": {
   "codemirror_mode": {
    "name": "ipython",
    "version": 3
   },
   "file_extension": ".py",
   "mimetype": "text/x-python",
   "name": "python",
   "nbconvert_exporter": "python",
   "pygments_lexer": "ipython3",
   "version": "3.8.10"
  },
  "orig_nbformat": 4
 },
 "nbformat": 4,
 "nbformat_minor": 2
}

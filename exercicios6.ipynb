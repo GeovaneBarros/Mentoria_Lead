{
 "cells": [
  {
   "cell_type": "code",
   "execution_count": 2,
   "metadata": {},
   "outputs": [],
   "source": [
    "import re"
   ]
  },
  {
   "cell_type": "code",
   "execution_count": 3,
   "metadata": {},
   "outputs": [],
   "source": [
    "def number_valid(number):\n",
    "    if re.search('[-|+]?\\d+([.]\\d+)?',number):\n",
    "        return 'Valid'\n",
    "    else:\n",
    "        return 'Not valid'"
   ]
  },
  {
   "cell_type": "code",
   "execution_count": 4,
   "metadata": {},
   "outputs": [],
   "source": [
    "def phone_valid(number):   \n",
    "    value = re.search(\"(([(]\\d?\\d{2}[)])|(\\d?\\d{2})) ?\\d?\\d{4}[ |-]?\\d{4}\", number)\n",
    "    if value:\n",
    "        if value[0] == number:\n",
    "            return 'Valid'\n",
    "        return 'Not valid'"
   ]
  },
  {
   "cell_type": "code",
   "execution_count": 6,
   "metadata": {},
   "outputs": [],
   "source": [
    "def phone_formated(number):\n",
    "    if phone_valid(number)=='Valid':\n",
    "        \n",
    "        return f'({number[:2]}) {number[2:-4]}-{number[-4:]}'\n",
    "    else:\n",
    "        return None"
   ]
  },
  {
   "cell_type": "code",
   "execution_count": 8,
   "metadata": {},
   "outputs": [
    {
     "name": "stdout",
     "output_type": "stream",
     "text": [
      "((8) 5)99126-8186\n"
     ]
    }
   ],
   "source": [
    "print(phone_formated('85991268186'))"
   ]
  }
 ],
 "metadata": {
  "interpreter": {
   "hash": "ecc69c7694d03f005ee6c0e6c9a247632233d80e197d705bb7164757d21e4370"
  },
  "kernelspec": {
   "display_name": "Python 3.8.8 64-bit ('base': conda)",
   "language": "python",
   "name": "python3"
  },
  "language_info": {
   "codemirror_mode": {
    "name": "ipython",
    "version": 3
   },
   "file_extension": ".py",
   "mimetype": "text/x-python",
   "name": "python",
   "nbconvert_exporter": "python",
   "pygments_lexer": "ipython3",
   "version": "3.8.8"
  },
  "orig_nbformat": 4
 },
 "nbformat": 4,
 "nbformat_minor": 2
}

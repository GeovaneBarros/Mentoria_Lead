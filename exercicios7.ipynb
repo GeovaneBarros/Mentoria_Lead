{
 "cells": [
  {
   "cell_type": "code",
   "execution_count": 77,
   "metadata": {},
   "outputs": [
    {
     "name": "stderr",
     "output_type": "stream",
     "text": [
      "[nltk_data] Downloading package words to /home/geovabe/nltk_data...\n",
      "[nltk_data]   Package words is already up-to-date!\n",
      "[nltk_data] Downloading package stopwords to\n",
      "[nltk_data]     /home/geovabe/nltk_data...\n",
      "[nltk_data]   Package stopwords is already up-to-date!\n"
     ]
    },
    {
     "data": {
      "text/plain": [
       "True"
      ]
     },
     "execution_count": 77,
     "metadata": {},
     "output_type": "execute_result"
    }
   ],
   "source": [
    "import pandas as pd\n",
    "import numpy as np\n",
    "import nltk\n",
    "import re\n",
    "from nltk.stem import WordNetLemmatizer\n",
    "from sklearn.feature_extraction.text import CountVectorizer, TfidfVectorizer\n",
    "from sklearn.naive_bayes import MultinomialNB\n",
    "from sklearn.model_selection import train_test_split\n",
    "from sklearn.metrics import classification_report, accuracy_score\n",
    "from sklearn.ensemble import RandomForestClassifier\n",
    "from sklearn.neural_network import MLPClassifier\n",
    "from sklearn.model_selection import RandomizedSearchCV\n",
    "from sklearn.svm import SVC\n",
    "from sklearn.tree import DecisionTreeClassifier\n",
    "from sklearn.neighbors import KNeighborsClassifier\n",
    "from sklearn.pipeline import make_pipeline\n",
    "import seaborn as sb\n",
    "from nltk.corpus import words, stopwords\n",
    "import matplotlib.pyplot as plt\n",
    "nltk.download('words')\n",
    "nltk.download('stopwords')\n"
   ]
  },
  {
   "cell_type": "markdown",
   "metadata": {},
   "source": [
    "## Read dataset"
   ]
  },
  {
   "cell_type": "code",
   "execution_count": 78,
   "metadata": {},
   "outputs": [],
   "source": [
    "df = pd.read_csv('./SRC/IMDB Dataset.csv')\n",
    "df = df.head(5000)"
   ]
  },
  {
   "cell_type": "code",
   "execution_count": 79,
   "metadata": {},
   "outputs": [],
   "source": [
    "X = df['review']\n",
    "y = df['sentiment']"
   ]
  },
  {
   "cell_type": "markdown",
   "metadata": {},
   "source": [
    "## Analisys reviews"
   ]
  },
  {
   "cell_type": "code",
   "execution_count": 80,
   "metadata": {},
   "outputs": [
    {
     "data": {
      "text/plain": [
       "'Probably my all-time favorite movie, a story of selflessness, sacrifice and dedication to a noble cause, but it\\'s not preachy or boring. It just never gets old, despite my having seen it some 15 or more times in the last 25 years. Paul Lukas\\' performance brings tears to my eyes, and Bette Davis, in one of her very few truly sympathetic roles, is a delight. The kids are, as grandma says, more like \"dressed-up midgets\" than children, but that only makes them more fun to watch. And the mother\\'s slow awakening to what\\'s happening in the world and under her own roof is believable and startling. If I had a dozen thumbs, they\\'d all be \"up\" for this movie.'"
      ]
     },
     "execution_count": 80,
     "metadata": {},
     "output_type": "execute_result"
    }
   ],
   "source": [
    "X[5]"
   ]
  },
  {
   "cell_type": "code",
   "execution_count": 81,
   "metadata": {},
   "outputs": [],
   "source": [
    "dict_change = {}\n",
    "dict_change['< br />'] = ''\n",
    "dict_change['<br />'] = ''\n",
    "dict_change[\"'ll\"] = ' will'\n",
    "dict_change[\"'s\"] = ' is'\n",
    "dict_change[\"'re\"] = ' are'\n",
    "dict_change[\"n't\"] = ' not '\n"
   ]
  },
  {
   "cell_type": "markdown",
   "metadata": {},
   "source": [
    "## Functions"
   ]
  },
  {
   "cell_type": "markdown",
   "metadata": {},
   "source": [
    "#### Pre-processing"
   ]
  },
  {
   "cell_type": "code",
   "execution_count": 82,
   "metadata": {},
   "outputs": [],
   "source": [
    "def basic_preprocessing(X, dict_change):\n",
    "    new_x = []\n",
    "    for i in X:\n",
    "        text_lower = i.lower()\n",
    "        for key in dict_change:\n",
    "            if key in text_lower:\n",
    "                text_lower.replace(key, dict_change[key])\n",
    "        text_lower = re.sub(\"\\W\", ' ', text_lower)\n",
    "        text_lower = re.sub(\" +\", ' ', text_lower)\n",
    "        tokens = nltk.word_tokenize(text_lower)\n",
    "        tokens = [x for x in tokens if x not in stopwords.words('english')]  \n",
    "        new_x.append(' '.join(tokens))\n",
    "    return new_x"
   ]
  },
  {
   "cell_type": "code",
   "execution_count": 83,
   "metadata": {},
   "outputs": [],
   "source": [
    "def lemmatizer(X):\n",
    "    lemmatizer = WordNetLemmatizer()\n",
    "    new_x = []\n",
    "    for i in X:\n",
    "        tokens = nltk.word_tokenize(i)\n",
    "        for j in range(len(tokens)):\n",
    "            tokens[j] = lemmatizer.lemmatize(tokens[j])\n",
    "        new_x.append(' '.join(tokens))\n",
    "    return new_x"
   ]
  },
  {
   "cell_type": "code",
   "execution_count": 84,
   "metadata": {},
   "outputs": [],
   "source": [
    "def remove_no_dict_words(X):\n",
    "    words_valid = []\n",
    "    words_invalid = []\n",
    "    words_numpy = np.array(words.words())\n",
    "    new_x = []\n",
    "    for review in X:\n",
    "        x_words = nltk.word_tokenize(review)\n",
    "        for token in x_words:\n",
    "            if token in words_valid:\n",
    "                pass\n",
    "            elif token in words_invalid:\n",
    "                words_invalid.append(token)\n",
    "                x_words.remove(token)\n",
    "            elif token in words_numpy:\n",
    "                words_valid.append(token)\n",
    "            else:\n",
    "                words_invalid.append(token)\n",
    "                x_words.remove(token)\n",
    "        new_x.append(' '.join(x_words))\n",
    "    return new_x"
   ]
  },
  {
   "cell_type": "markdown",
   "metadata": {},
   "source": [
    "#### Training"
   ]
  },
  {
   "cell_type": "code",
   "execution_count": 85,
   "metadata": {},
   "outputs": [],
   "source": [
    "def simple_training(X, y, method, models, random_state):\n",
    "    df = {\n",
    "        'Model': [],\n",
    "        'Accuracy': []\n",
    "    }\n",
    "    X_train, X_test, y_train, y_test = train_test_split(X,y,test_size=0.25,random_state=random_state)\n",
    "    \n",
    "    for model in models:\n",
    "        pipeline = make_pipeline(method, models[model])\n",
    "        clf = pipeline.fit(X_train, y_train)\n",
    "        df['Model'].append(model)\n",
    "        df['Accuracy'].append(accuracy_score(y_test, clf.predict(X_test)))\n",
    "\n",
    "    return pd.DataFrame(df)"
   ]
  },
  {
   "cell_type": "code",
   "execution_count": 86,
   "metadata": {},
   "outputs": [],
   "source": [
    "def full_training(X, y,method, models, params,random_state, n_iter):\n",
    "    df = {\n",
    "        'Model':[],\n",
    "        'Params': [],\n",
    "        'Accuracy': [],\n",
    "    }\n",
    "    X = method.fit_transform(X)\n",
    "    X_train, X_test, y_train, y_test = train_test_split(X,y,test_size=0.25,random_state=random_state)\n",
    "    for model in models:\n",
    "        clf = RandomizedSearchCV(models[model], params[model], n_iter=n_iter)\n",
    "        clf.fit(X_train, y_train)\n",
    "        predict = clf.predict(X_test)\n",
    "        df['Model'].append(model)\n",
    "        df['Params'].append(clf.best_estimator_)\n",
    "        df['Accuracy'].append(accuracy_score(y_test, predict))\n",
    "    return pd.DataFrame(df)"
   ]
  },
  {
   "cell_type": "markdown",
   "metadata": {},
   "source": [
    "## Training "
   ]
  },
  {
   "cell_type": "markdown",
   "metadata": {},
   "source": [
    "#### Selecting models, params and preprocessing"
   ]
  },
  {
   "cell_type": "code",
   "execution_count": 87,
   "metadata": {},
   "outputs": [],
   "source": [
    "models = {\n",
    "    'MLP 1layer': MLPClassifier(max_iter=4000),\n",
    "    'MLP 2layer': MLPClassifier(max_iter=4000),\n",
    "    'SVC Linear': SVC(kernel='linear'),\n",
    "    'SVC Poly': SVC(kernel='poly'),\n",
    "    'KNN': KNeighborsClassifier(),\n",
    "    'Random Forest': RandomForestClassifier(),\n",
    "    'Decision tree': DecisionTreeClassifier(),\n",
    "}"
   ]
  },
  {
   "cell_type": "code",
   "execution_count": 88,
   "metadata": {},
   "outputs": [],
   "source": [
    "pre_processing = ['Basic Preprocessing', 'Lematization', 'add removing no words']\n",
    "preprocessed_data = []\n",
    "X = basic_preprocessing(X, dict_change)"
   ]
  },
  {
   "cell_type": "code",
   "execution_count": 89,
   "metadata": {},
   "outputs": [],
   "source": [
    "preprocessed_data.append(X)\n",
    "preprocessed_data.append(lemmatizer(X))\n",
    "preprocessed_data.append(remove_no_dict_words(lemmatizer(X)))"
   ]
  },
  {
   "cell_type": "markdown",
   "metadata": {},
   "source": [
    "#### Simple training with Count and TF-IDF"
   ]
  },
  {
   "cell_type": "code",
   "execution_count": 90,
   "metadata": {},
   "outputs": [],
   "source": [
    "dataframe = pd.DataFrame()\n",
    "methods = [CountVectorizer(), TfidfVectorizer()]\n",
    "for i in methods:\n",
    "    for index, item in enumerate(preprocessed_data):\n",
    "        dataframe_aux = simple_training(item, y, i, models, 42)\n",
    "        dataframe_aux['Pre_Processing'] = pre_processing[index]\n",
    "        dataframe_aux['Method'] = f'{i}'\n",
    "        dataframe = pd.concat([dataframe, dataframe_aux], ignore_index=True)"
   ]
  },
  {
   "cell_type": "code",
   "execution_count": 91,
   "metadata": {},
   "outputs": [
    {
     "data": {
      "text/plain": [
       "(0.4, 0.91476)"
      ]
     },
     "execution_count": 91,
     "metadata": {},
     "output_type": "execute_result"
    },
    {
     "data": {
      "image/png": "[encoded data removed]",
      "text/plain": [
       "<Figure size 513.5x2520 with 7 Axes>"
      ]
     },
     "metadata": {
      "needs_background": "light"
     },
     "output_type": "display_data"
    }
   ],
   "source": [
    "sb.catplot(data=dataframe, hue='Pre_Processing', y='Accuracy', x='Method', row='Model', kind='bar')\n",
    "plt.ylim(0.4)"
   ]
  },
  {
   "cell_type": "markdown",
   "metadata": {},
   "source": [
    "#### Selecting new models and params"
   ]
  },
  {
   "cell_type": "code",
   "execution_count": 92,
   "metadata": {},
   "outputs": [],
   "source": [
    "models = {\n",
    "    'SVC Linear': SVC(kernel='linear'),\n",
    "}"
   ]
  },
  {
   "cell_type": "code",
   "execution_count": 93,
   "metadata": {},
   "outputs": [],
   "source": [
    "from numpy.random import randint\n",
    "C = [2 ** i for i in range(-5, 16,2)]\n",
    "gamma = [2 ** i for i in range(-15, 4,2)]"
   ]
  },
  {
   "cell_type": "code",
   "execution_count": 94,
   "metadata": {},
   "outputs": [],
   "source": [
    "import random\n",
    "gamma = random.choices(gamma, k=3)\n",
    "gamma.append('scale')\n",
    "gamma.append('auto')"
   ]
  },
  {
   "cell_type": "code",
   "execution_count": 95,
   "metadata": {},
   "outputs": [],
   "source": [
    "C = random.choices(C, k=3)"
   ]
  },
  {
   "cell_type": "code",
   "execution_count": 96,
   "metadata": {},
   "outputs": [],
   "source": [
    "params = {\n",
    "    'SVC Linear': {'gamma':gamma, 'C':C },\n",
    "    'MLP 1layer': {'hidden_layer_sizes':[(x, ) for x in range(2,1000)]},\n",
    "    'MLP 2layer': {'hidden_layer_sizes':[(randint(50,1000), randint(50,1000)) for x in range(2,1000)]},\n",
    "}"
   ]
  },
  {
   "cell_type": "markdown",
   "metadata": {},
   "source": [
    "#### Full training without mlp and plot"
   ]
  },
  {
   "cell_type": "code",
   "execution_count": 97,
   "metadata": {},
   "outputs": [],
   "source": [
    "dataframe = pd.DataFrame()\n",
    "methods = [CountVectorizer(), TfidfVectorizer()]\n",
    "for i in methods:\n",
    "    for index, item in enumerate(preprocessed_data):\n",
    "        dataframe_aux = full_training(X,y,i,models,params,42,15)\n",
    "        dataframe_aux['Pre_Processing'] = pre_processing[index]\n",
    "        dataframe_aux['Method'] = f'{i}'\n",
    "        dataframe = pd.concat([dataframe, dataframe_aux], ignore_index=True)"
   ]
  },
  {
   "cell_type": "code",
   "execution_count": 98,
   "metadata": {},
   "outputs": [
    {
     "data": {
      "text/plain": [
       "Text(0.5, 1.0, 'SVC with adjust Hiperparams')"
      ]
     },
     "execution_count": 98,
     "metadata": {},
     "output_type": "execute_result"
    },
    {
     "data": {
      "image/png": "[encoded data removed]",
      "text/plain": [
       "<Figure size 432x288 with 1 Axes>"
      ]
     },
     "metadata": {
      "needs_background": "light"
     },
     "output_type": "display_data"
    }
   ],
   "source": [
    "sb.barplot(x='Method', y='Accuracy', hue = 'Pre_Processing', data=dataframe)\n",
    "plt.legend(loc='lower center')\n",
    "plt.title(label='SVC with adjust Hiperparams')"
   ]
  },
  {
   "cell_type": "markdown",
   "metadata": {},
   "source": [
    "## Results"
   ]
  },
  {
   "cell_type": "markdown",
   "metadata": {},
   "source": [
    "This problem consists of analyzing a dataset with 50000 examples of film analysis. To deal with an NLP problem, the first step is to separate and clean the data. In this case I only took part of the data, 5000 is a good value due to the training time of the algorithms, but the recommended training is with the largest amount of data available. For a data clean, I left all letters in lowercase, removed html tags and compressed words and punctuation removed. Another pre-processing I did was lemmatization and finally I removed all the words that were not in the dictionary.\n",
    "<br/><br/>\n",
    "In an analysis of the results of rapid tests with several classifiers, we can see that the MLP and SVC classifiers obtained the best results, with an accuracy around 85%. For hyperparameter refinement it is unfeasible to use the MLP classifier due to excessive training time, if I reduce the amount of, the classifier will not perform well, therefore for hyperparameter optimization using SVC classifier with linear kernel, and I obtained an accuracy of almost 90% in the final result. With this precision I liked the result, so I closed this notebook."
   ]
  }
 ],
 "metadata": {
  "interpreter": {
   "hash": "ebd45fa96968ff211ab3d5bab10358c56dfae4927cc7e2ced4ea57cdeb1b739c"
  },
  "kernelspec": {
   "display_name": "Python 3.9.5 64-bit ('base': conda)",
   "language": "python",
   "name": "python3"
  },
  "language_info": {
   "codemirror_mode": {
    "name": "ipython",
    "version": 3
   },
   "file_extension": ".py",
   "mimetype": "text/x-python",
   "name": "python",
   "nbconvert_exporter": "python",
   "pygments_lexer": "ipython3",
   "version": "3.8.8"
  },
  "orig_nbformat": 4
 },
 "nbformat": 4,
 "nbformat_minor": 2
}

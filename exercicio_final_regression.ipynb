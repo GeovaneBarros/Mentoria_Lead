{
 "cells": [
  {
   "cell_type": "markdown",
   "metadata": {},
   "source": [
    "### Import dataset"
   ]
  },
  {
   "cell_type": "code",
   "execution_count": 1,
   "metadata": {},
   "outputs": [],
   "source": [
    "import pandas as pd\n",
    "import numpy as np\n",
    "from matplotlib import pyplot as plt\n",
    "import seaborn as sb\n",
    "from sklearn.metrics import mean_squared_error, mean_absolute_error\n",
    "from sklearn.linear_model import LinearRegression \n",
    "from sklearn.model_selection import train_test_split, KFold\n",
    "from sklearn.ensemble import RandomForestRegressor\n",
    "from sklearn.svm import SVR\n",
    "from sklearn.neural_network import MLPRegressor\n",
    "from sklearn.preprocessing import Normalizer, StandardScaler\n",
    "from sklearn.model_selection import GridSearchCV\n",
    "from sklearn.cluster import KMeans"
   ]
  },
  {
   "cell_type": "code",
   "execution_count": 2,
   "metadata": {},
   "outputs": [],
   "source": [
    "df = pd.read_excel('./SRC/Real estate valuation data set.xlsx')"
   ]
  },
  {
   "cell_type": "markdown",
   "metadata": {},
   "source": [
    "### Features analisis"
   ]
  },
  {
   "cell_type": "code",
   "execution_count": 4,
   "metadata": {},
   "outputs": [
    {
     "data": {
      "text/html": [
       "<div>\n",
       "<style scoped>\n",
       "    .dataframe tbody tr th:only-of-type {\n",
       "        vertical-align: middle;\n",
       "    }\n",
       "\n",
       "    .dataframe tbody tr th {\n",
       "        vertical-align: top;\n",
       "    }\n",
       "\n",
       "    .dataframe thead th {\n",
       "        text-align: right;\n",
       "    }\n",
       "</style>\n",
       "<table border=\"1\" class=\"dataframe\">\n",
       "  <thead>\n",
       "    <tr style=\"text-align: right;\">\n",
       "      <th></th>\n",
       "      <th>No</th>\n",
       "      <th>X1 transaction date</th>\n",
       "      <th>X2 house age</th>\n",
       "      <th>X3 distance to the nearest MRT station</th>\n",
       "      <th>X4 number of convenience stores</th>\n",
       "      <th>X5 latitude</th>\n",
       "      <th>X6 longitude</th>\n",
       "      <th>Y house price of unit area</th>\n",
       "    </tr>\n",
       "  </thead>\n",
       "  <tbody>\n",
       "    <tr>\n",
       "      <th>0</th>\n",
       "      <td>1</td>\n",
       "      <td>2012.916667</td>\n",
       "      <td>32.0</td>\n",
       "      <td>84.87882</td>\n",
       "      <td>10</td>\n",
       "      <td>24.98298</td>\n",
       "      <td>121.54024</td>\n",
       "      <td>37.9</td>\n",
       "    </tr>\n",
       "    <tr>\n",
       "      <th>1</th>\n",
       "      <td>2</td>\n",
       "      <td>2012.916667</td>\n",
       "      <td>19.5</td>\n",
       "      <td>306.59470</td>\n",
       "      <td>9</td>\n",
       "      <td>24.98034</td>\n",
       "      <td>121.53951</td>\n",
       "      <td>42.2</td>\n",
       "    </tr>\n",
       "    <tr>\n",
       "      <th>2</th>\n",
       "      <td>3</td>\n",
       "      <td>2013.583333</td>\n",
       "      <td>13.3</td>\n",
       "      <td>561.98450</td>\n",
       "      <td>5</td>\n",
       "      <td>24.98746</td>\n",
       "      <td>121.54391</td>\n",
       "      <td>47.3</td>\n",
       "    </tr>\n",
       "    <tr>\n",
       "      <th>3</th>\n",
       "      <td>4</td>\n",
       "      <td>2013.500000</td>\n",
       "      <td>13.3</td>\n",
       "      <td>561.98450</td>\n",
       "      <td>5</td>\n",
       "      <td>24.98746</td>\n",
       "      <td>121.54391</td>\n",
       "      <td>54.8</td>\n",
       "    </tr>\n",
       "    <tr>\n",
       "      <th>4</th>\n",
       "      <td>5</td>\n",
       "      <td>2012.833333</td>\n",
       "      <td>5.0</td>\n",
       "      <td>390.56840</td>\n",
       "      <td>5</td>\n",
       "      <td>24.97937</td>\n",
       "      <td>121.54245</td>\n",
       "      <td>43.1</td>\n",
       "    </tr>\n",
       "  </tbody>\n",
       "</table>\n",
       "</div>"
      ],
      "text/plain": [
       "   No  X1 transaction date  X2 house age  \\\n",
       "0   1          2012.916667          32.0   \n",
       "1   2          2012.916667          19.5   \n",
       "2   3          2013.583333          13.3   \n",
       "3   4          2013.500000          13.3   \n",
       "4   5          2012.833333           5.0   \n",
       "\n",
       "   X3 distance to the nearest MRT station  X4 number of convenience stores  \\\n",
       "0                                84.87882                               10   \n",
       "1                               306.59470                                9   \n",
       "2                               561.98450                                5   \n",
       "3                               561.98450                                5   \n",
       "4                               390.56840                                5   \n",
       "\n",
       "   X5 latitude  X6 longitude  Y house price of unit area  \n",
       "0     24.98298     121.54024                        37.9  \n",
       "1     24.98034     121.53951                        42.2  \n",
       "2     24.98746     121.54391                        47.3  \n",
       "3     24.98746     121.54391                        54.8  \n",
       "4     24.97937     121.54245                        43.1  "
      ]
     },
     "execution_count": 4,
     "metadata": {},
     "output_type": "execute_result"
    }
   ],
   "source": [
    "df.head()"
   ]
  },
  {
   "cell_type": "code",
   "execution_count": 4,
   "metadata": {},
   "outputs": [
    {
     "data": {
      "text/plain": [
       "count     414.000000\n",
       "mean     2013.148953\n",
       "std         0.281995\n",
       "min      2012.666667\n",
       "25%      2012.916667\n",
       "50%      2013.166667\n",
       "75%      2013.416667\n",
       "max      2013.583333\n",
       "Name: X1 transaction date, dtype: float64"
      ]
     },
     "execution_count": 4,
     "metadata": {},
     "output_type": "execute_result"
    }
   ],
   "source": [
    "df['X1 transaction date'].describe()"
   ]
  },
  {
   "cell_type": "markdown",
   "metadata": {},
   "source": [
    "Over time, a product tends to undergo changes in its price, either appreciation or depreciation. However, less than 1 year as shown in this dataset will not imply the final result."
   ]
  },
  {
   "cell_type": "code",
   "execution_count": 5,
   "metadata": {},
   "outputs": [],
   "source": [
    "df = df.drop(columns=['No', 'X1 transaction date'])"
   ]
  },
  {
   "cell_type": "markdown",
   "metadata": {},
   "source": [
    "Data and No are features that don't make a difference in our analysis, they will soon be excluded."
   ]
  },
  {
   "cell_type": "markdown",
   "metadata": {},
   "source": [
    "### Simple training"
   ]
  },
  {
   "cell_type": "code",
   "execution_count": 6,
   "metadata": {},
   "outputs": [],
   "source": [
    "models = {\n",
    "    'MLPRegressor': MLPRegressor(),\n",
    "    'RandomForestRegressor': RandomForestRegressor(),\n",
    "    'SVR': SVR(),\n",
    "}"
   ]
  },
  {
   "cell_type": "code",
   "execution_count": 29,
   "metadata": {},
   "outputs": [
    {
     "name": "stderr",
     "output_type": "stream",
     "text": [
      "/home/geovabe/anaconda3/lib/python3.8/site-packages/sklearn/neural_network/_multilayer_perceptron.py:614: ConvergenceWarning: Stochastic Optimizer: Maximum iterations (200) reached and the optimization hasn't converged yet.\n",
      "  warnings.warn(\n"
     ]
    }
   ],
   "source": [
    "X_train, X_test, y_train, y_test = train_test_split(df.drop(columns=['Y house price of unit area']), df['Y house price of unit area'],test_size=0.25,shuffle=True, random_state=10)\n",
    "\n",
    "dataframe = {\n",
    "    'Score':[],\n",
    "    'Metric':[],\n",
    "    'Model':[]\n",
    "}\n",
    "\n",
    "for model in models:\n",
    "    regressor = models[model]\n",
    "    regressor.fit(X_train, y_train)\n",
    "    y_predict = regressor.predict(X_test)\n",
    "    dataframe['Score'] += [mean_absolute_error(y_test, y_predict), np.sqrt(mean_squared_error(y_test,y_predict))]\n",
    "    dataframe['Metric'] += ['MAE', 'RMSE']\n",
    "    dataframe['Model'] += [model, model]"
   ]
  },
  {
   "cell_type": "code",
   "execution_count": 30,
   "metadata": {},
   "outputs": [
    {
     "data": {
      "text/html": [
       "<div>\n",
       "<style scoped>\n",
       "    .dataframe tbody tr th:only-of-type {\n",
       "        vertical-align: middle;\n",
       "    }\n",
       "\n",
       "    .dataframe tbody tr th {\n",
       "        vertical-align: top;\n",
       "    }\n",
       "\n",
       "    .dataframe thead th {\n",
       "        text-align: right;\n",
       "    }\n",
       "</style>\n",
       "<table border=\"1\" class=\"dataframe\">\n",
       "  <thead>\n",
       "    <tr style=\"text-align: right;\">\n",
       "      <th></th>\n",
       "      <th>Score</th>\n",
       "      <th>Metric</th>\n",
       "      <th>Model</th>\n",
       "    </tr>\n",
       "  </thead>\n",
       "  <tbody>\n",
       "    <tr>\n",
       "      <th>0</th>\n",
       "      <td>6.032616</td>\n",
       "      <td>MAE</td>\n",
       "      <td>MLPRegressor 1LAYER</td>\n",
       "    </tr>\n",
       "    <tr>\n",
       "      <th>1</th>\n",
       "      <td>8.891148</td>\n",
       "      <td>RMSE</td>\n",
       "      <td>MLPRegressor 1LAYER</td>\n",
       "    </tr>\n",
       "    <tr>\n",
       "      <th>2</th>\n",
       "      <td>6.082336</td>\n",
       "      <td>MAE</td>\n",
       "      <td>MLPRegressor 2LAYER</td>\n",
       "    </tr>\n",
       "    <tr>\n",
       "      <th>3</th>\n",
       "      <td>9.030179</td>\n",
       "      <td>RMSE</td>\n",
       "      <td>MLPRegressor 2LAYER</td>\n",
       "    </tr>\n",
       "    <tr>\n",
       "      <th>4</th>\n",
       "      <td>4.919570</td>\n",
       "      <td>MAE</td>\n",
       "      <td>RandomForestRegressor</td>\n",
       "    </tr>\n",
       "    <tr>\n",
       "      <th>5</th>\n",
       "      <td>7.274649</td>\n",
       "      <td>RMSE</td>\n",
       "      <td>RandomForestRegressor</td>\n",
       "    </tr>\n",
       "    <tr>\n",
       "      <th>6</th>\n",
       "      <td>7.194414</td>\n",
       "      <td>MAE</td>\n",
       "      <td>SVR Linear</td>\n",
       "    </tr>\n",
       "    <tr>\n",
       "      <th>7</th>\n",
       "      <td>9.732741</td>\n",
       "      <td>RMSE</td>\n",
       "      <td>SVR Linear</td>\n",
       "    </tr>\n",
       "    <tr>\n",
       "      <th>8</th>\n",
       "      <td>7.194414</td>\n",
       "      <td>MAE</td>\n",
       "      <td>SVR Poly</td>\n",
       "    </tr>\n",
       "    <tr>\n",
       "      <th>9</th>\n",
       "      <td>9.732741</td>\n",
       "      <td>RMSE</td>\n",
       "      <td>SVR Poly</td>\n",
       "    </tr>\n",
       "  </tbody>\n",
       "</table>\n",
       "</div>"
      ],
      "text/plain": [
       "      Score Metric                  Model\n",
       "0  6.032616    MAE    MLPRegressor 1LAYER\n",
       "1  8.891148   RMSE    MLPRegressor 1LAYER\n",
       "2  6.082336    MAE    MLPRegressor 2LAYER\n",
       "3  9.030179   RMSE    MLPRegressor 2LAYER\n",
       "4  4.919570    MAE  RandomForestRegressor\n",
       "5  7.274649   RMSE  RandomForestRegressor\n",
       "6  7.194414    MAE             SVR Linear\n",
       "7  9.732741   RMSE             SVR Linear\n",
       "8  7.194414    MAE               SVR Poly\n",
       "9  9.732741   RMSE               SVR Poly"
      ]
     },
     "execution_count": 30,
     "metadata": {},
     "output_type": "execute_result"
    }
   ],
   "source": [
    "dataframe = pd.DataFrame(dataframe)\n",
    "dataframe"
   ]
  },
  {
   "cell_type": "code",
   "execution_count": 31,
   "metadata": {},
   "outputs": [
    {
     "data": {
      "text/plain": [
       "<AxesSubplot:xlabel='Model', ylabel='Score'>"
      ]
     },
     "execution_count": 31,
     "metadata": {},
     "output_type": "execute_result"
    },
    {
     "data": {
      "image/png": "[encoded data removed]",
      "text/plain": [
       "<Figure size 432x288 with 1 Axes>"
      ]
     },
     "metadata": {
      "needs_background": "light"
     },
     "output_type": "display_data"
    }
   ],
   "source": [
    "sb.barplot(x=dataframe['Model'], y=dataframe['Score'], hue=dataframe['Metric'])"
   ]
  },
  {
   "cell_type": "markdown",
   "metadata": {},
   "source": [
    "### Advanced training"
   ]
  },
  {
   "cell_type": "markdown",
   "metadata": {},
   "source": [
    "#### Gruped"
   ]
  },
  {
   "cell_type": "code",
   "execution_count": 6,
   "metadata": {},
   "outputs": [],
   "source": [
    "groups = KMeans(n_clusters=5).fit(df.drop(columns=['X2 house age','X3 distance to the nearest MRT station','X4 number of convenience stores','Y house price of unit area']))\n",
    "df['Groups'] = groups.labels_"
   ]
  },
  {
   "cell_type": "markdown",
   "metadata": {},
   "source": [
    "#### Training"
   ]
  },
  {
   "cell_type": "code",
   "execution_count": 10,
   "metadata": {},
   "outputs": [],
   "source": [
    "models = {\n",
    "    'MLPRegressor 1LAYER': MLPRegressor(),\n",
    "    'MLPRegressor 2LAYER': MLPRegressor(),\n",
    "    'RandomForestRegressor': RandomForestRegressor(),\n",
    "    'SVR Linear': SVR(),\n",
    "    'SVR Poly': SVR(),\n",
    "}\n",
    "one_layer =[(np.random.randint(100,200),),(np.random.randint(200,300),),(np.random.randint(300,400),)]\n",
    "two_layer = [(np.random.randint(100,200), np.random.randint(100,200)),(np.random.randint(200,400), np.random.randint(100,200)),(np.random.randint(200,400), np.random.randint(200,400))]\n",
    "\n",
    "params = {\n",
    "    'MLPRegressor 1LAYER': {'max_iter':[4000], 'hidden_layer_sizes':one_layer},\n",
    "    'MLPRegressor 2LAYER': {'max_iter':[4000], 'hidden_layer_sizes':two_layer},    \n",
    "    'RandomForestRegressor': {'n_estimators':[100, np.random.randint(50,100),np.random.randint(100,150), np.random.randint(150,300),np.random.randint(300,400)]},\n",
    "    'SVR Linear':{},\n",
    "    'SVR Poly': {'kernel':['poly', 'rbf'], 'degree':[2,3,4]}\n",
    "}"
   ]
  },
  {
   "cell_type": "code",
   "execution_count": 33,
   "metadata": {},
   "outputs": [],
   "source": [
    "normalizer = Normalizer().fit(df.drop(columns=['Y house price of unit area']))\n",
    "standardizer = StandardScaler().fit(df.drop(columns=['Y house price of unit area']))"
   ]
  },
  {
   "cell_type": "code",
   "execution_count": 11,
   "metadata": {},
   "outputs": [],
   "source": [
    "def training_with_grid(models, params, df, y, processing, random_state, drop):\n",
    "    \n",
    "    df_results = {\n",
    "        'Model':[],\n",
    "        'Metric':[],\n",
    "        'Params':[],\n",
    "        'Processing':[],\n",
    "        'Score':[],\n",
    "        'Drop':[]\n",
    "    }\n",
    "    if drop == []:\n",
    "        drop = 'No drop'\n",
    "    else:\n",
    "        X = df.drop(columns=drop)\n",
    "        drop = ', '.join(drop)\n",
    "\n",
    "    X = df.drop(columns=y)\n",
    "    \n",
    "    X_train, X_test, y_train, y_test = train_test_split(X, df[y],test_size=0.25,shuffle=True, random_state=random_state)\n",
    "    \n",
    "    if processing == 'Normalizer':\n",
    "        X_train = normalizer.transform(X_train)\n",
    "        X_test = normalizer.transform(X_test)\n",
    "\n",
    "    if processing == 'Standarlizer':\n",
    "        X_train = standardizer.transform(X_train)\n",
    "        X_test = standardizer.transform(X_test)\n",
    "\n",
    "    for name in models:\n",
    "        model = GridSearchCV(models[name], params[name])\n",
    "        model.fit(X_train, y_train)\n",
    "        y_predict = model.predict(X_test)    \n",
    "        df_results['Model']+= [name,name]\n",
    "        df_results['Drop']+= [drop,drop]\n",
    "        df_results['Params']+= [model.best_params_,model.best_params_] \n",
    "        df_results['Processing']+= [processing,processing]\n",
    "        df_results['Score']+= [mean_absolute_error(y_test, y_predict), np.sqrt(mean_squared_error(y_test, y_predict))]\n",
    "        df_results['Metric'].append('MAE', 'RMSE')\n",
    "    return df_results"
   ]
  },
  {
   "cell_type": "code",
   "execution_count": 12,
   "metadata": {},
   "outputs": [
    {
     "name": "stderr",
     "output_type": "stream",
     "text": [
      "/home/geovabe/anaconda3/lib/python3.8/site-packages/sklearn/neural_network/_multilayer_perceptron.py:614: ConvergenceWarning: Stochastic Optimizer: Maximum iterations (4000) reached and the optimization hasn't converged yet.\n",
      "  warnings.warn(\n"
     ]
    }
   ],
   "source": [
    "drops = [[], ['X5 latitude','X6 longitude'], ['Groups'], ['X5 latitude','X6 longitude','Groups']]\n",
    "processings = ['No', 'Normalizer', 'Standarlizer']\n",
    "dataframe = pd.DataFrame()\n",
    "y = 'Y house price of unit area'\n",
    "for i in drops:\n",
    "    for j in processings:\n",
    "        df_results = pd.DataFrame(training_with_grid(models,params, df, y, j, 10, i))\n",
    "        dataframe = pd.concat([dataframe, df_results],ignore_index=True)"
   ]
  },
  {
   "cell_type": "code",
   "execution_count": 13,
   "metadata": {},
   "outputs": [
    {
     "data": {
      "image/png": "[encoded data removed]",
      "text/plain": [
       "<Figure size 816.375x1440 with 8 Axes>"
      ]
     },
     "metadata": {
      "needs_background": "light"
     },
     "output_type": "display_data"
    }
   ],
   "source": [
    "plot = sb.catplot(x='Model', y='Score',data=dataframe,col='Metric', row='Drop',hue='Processing', kind='bar')\n",
    "for ax in plot.axes.flat:\n",
    "    _ = ax.set_xticklabels(ax.get_xticklabels(), rotation=20)"
   ]
  },
  {
   "cell_type": "markdown",
   "metadata": {},
   "source": [
    "This code consists of training and selecting hyperparameters and resources. Various features, parameters, processing, regression models and metrics are tested."
   ]
  },
  {
   "cell_type": "markdown",
   "metadata": {},
   "source": [
    "The MLP and SVR regression models obtained better scores using standardization as pre-processing. On the other hand, the RandomForest model, which was already very good without changes, got better scores with Normalization and excluding the Latitude and Longitude features."
   ]
  },
  {
   "cell_type": "markdown",
   "metadata": {},
   "source": [
    "### Getting better model and params"
   ]
  },
  {
   "cell_type": "code",
   "execution_count": 32,
   "metadata": {},
   "outputs": [
    {
     "data": {
      "text/html": [
       "<div>\n",
       "<style scoped>\n",
       "    .dataframe tbody tr th:only-of-type {\n",
       "        vertical-align: middle;\n",
       "    }\n",
       "\n",
       "    .dataframe tbody tr th {\n",
       "        vertical-align: top;\n",
       "    }\n",
       "\n",
       "    .dataframe thead th {\n",
       "        text-align: right;\n",
       "    }\n",
       "</style>\n",
       "<table border=\"1\" class=\"dataframe\">\n",
       "  <thead>\n",
       "    <tr style=\"text-align: right;\">\n",
       "      <th></th>\n",
       "      <th>Score</th>\n",
       "      <th>Metric</th>\n",
       "      <th>Model</th>\n",
       "    </tr>\n",
       "  </thead>\n",
       "  <tbody>\n",
       "    <tr>\n",
       "      <th>4</th>\n",
       "      <td>4.919570</td>\n",
       "      <td>MAE</td>\n",
       "      <td>RandomForestRegressor</td>\n",
       "    </tr>\n",
       "    <tr>\n",
       "      <th>0</th>\n",
       "      <td>6.032616</td>\n",
       "      <td>MAE</td>\n",
       "      <td>MLPRegressor 1LAYER</td>\n",
       "    </tr>\n",
       "    <tr>\n",
       "      <th>2</th>\n",
       "      <td>6.082336</td>\n",
       "      <td>MAE</td>\n",
       "      <td>MLPRegressor 2LAYER</td>\n",
       "    </tr>\n",
       "    <tr>\n",
       "      <th>6</th>\n",
       "      <td>7.194414</td>\n",
       "      <td>MAE</td>\n",
       "      <td>SVR Linear</td>\n",
       "    </tr>\n",
       "    <tr>\n",
       "      <th>8</th>\n",
       "      <td>7.194414</td>\n",
       "      <td>MAE</td>\n",
       "      <td>SVR Poly</td>\n",
       "    </tr>\n",
       "  </tbody>\n",
       "</table>\n",
       "</div>"
      ],
      "text/plain": [
       "      Score Metric                  Model\n",
       "4  4.919570    MAE  RandomForestRegressor\n",
       "0  6.032616    MAE    MLPRegressor 1LAYER\n",
       "2  6.082336    MAE    MLPRegressor 2LAYER\n",
       "6  7.194414    MAE             SVR Linear\n",
       "8  7.194414    MAE               SVR Poly"
      ]
     },
     "execution_count": 32,
     "metadata": {},
     "output_type": "execute_result"
    }
   ],
   "source": [
    "dataframe.sort_values(by='Score').head()"
   ]
  },
  {
   "cell_type": "markdown",
   "metadata": {},
   "source": [
    "#### Checking consistency"
   ]
  },
  {
   "cell_type": "code",
   "execution_count": 22,
   "metadata": {},
   "outputs": [
    {
     "name": "stdout",
     "output_type": "stream",
     "text": [
      "4.956444389736865\n"
     ]
    }
   ],
   "source": [
    "mean = []\n",
    "for i in range(50):\n",
    "    X_train, X_test, y_train, y_test = train_test_split(df.drop(columns=['X5 latitude', 'X6 longitude','Y house price of unit area']),df['Y house price of unit area'], shuffle=True, random_state=i)\n",
    "    normalizer = Normalizer().fit(X_train)\n",
    "    X_train = normalizer.transform(X_train)\n",
    "    X_test = normalizer.transform(X_test)\n",
    "    regressor = GridSearchCV(RandomForestRegressor(), {'n_estimators': [100]})\n",
    "    regressor.fit(X_train, y_train)\n",
    "    mean.append(mean_absolute_error(y_test,regressor.predict(X_test)))"
   ]
  },
  {
   "cell_type": "code",
   "execution_count": null,
   "metadata": {},
   "outputs": [],
   "source": [
    "print(np.mean(mean))\n",
    "print(np.std(mean))"
   ]
  },
  {
   "cell_type": "markdown",
   "metadata": {},
   "source": [
    "Model is consistent so it's time to save the file."
   ]
  },
  {
   "cell_type": "markdown",
   "metadata": {},
   "source": [
    "### Saving files"
   ]
  },
  {
   "cell_type": "code",
   "execution_count": 7,
   "metadata": {},
   "outputs": [],
   "source": [
    "import os\n",
    "import joblib\n",
    "save_models_path = './results'\n",
    "if not os.path.exists(save_models_path):\n",
    "    os.mkdir(save_models_path)"
   ]
  },
  {
   "cell_type": "code",
   "execution_count": null,
   "metadata": {},
   "outputs": [],
   "source": [
    "filename = save_models_path+'/normalizer.pkl'\n",
    "normalizer = Normalizer().fit(df.drop(columns=['X5 latitude','X6 longitude', 'Y house price of unit area']))\n",
    "joblib.dump(normalizer,filename)"
   ]
  },
  {
   "cell_type": "code",
   "execution_count": 19,
   "metadata": {},
   "outputs": [
    {
     "data": {
      "text/plain": [
       "['./results/real_estate.pkl']"
      ]
     },
     "execution_count": 19,
     "metadata": {},
     "output_type": "execute_result"
    }
   ],
   "source": [
    "X_train, X_test, y_train, y_test = train_test_split(df.drop(columns=['X5 latitude', 'X6 longitude','Y house price of unit area']),df['Y house price of unit area'], shuffle=True, random_state=10)\n",
    "model = RandomForestRegressor()\n",
    "X_train = normalizer.transform(X_train)\n",
    "model.fit(X_train, y_train)\n",
    "filename = save_models_path+'/real_estate.pkl'\n",
    "joblib.dump(model,filename)"
   ]
  },
  {
   "cell_type": "code",
   "execution_count": 10,
   "metadata": {},
   "outputs": [
    {
     "data": {
      "text/plain": [
       "['./results/groups.pkl']"
      ]
     },
     "execution_count": 10,
     "metadata": {},
     "output_type": "execute_result"
    }
   ],
   "source": [
    "filename = save_models_path+'/groups.pkl'\n",
    "joblib.dump(groups,filename)"
   ]
  }
 ],
 "metadata": {
  "interpreter": {
   "hash": "ebd45fa96968ff211ab3d5bab10358c56dfae4927cc7e2ced4ea57cdeb1b739c"
  },
  "kernelspec": {
   "display_name": "Python 3.9.5 64-bit ('base': conda)",
   "language": "python",
   "name": "python3"
  },
  "language_info": {
   "codemirror_mode": {
    "name": "ipython",
    "version": 3
   },
   "file_extension": ".py",
   "mimetype": "text/x-python",
   "name": "python",
   "nbconvert_exporter": "python",
   "pygments_lexer": "ipython3",
   "version": "3.8.8"
  },
  "orig_nbformat": 4
 },
 "nbformat": 4,
 "nbformat_minor": 2
}

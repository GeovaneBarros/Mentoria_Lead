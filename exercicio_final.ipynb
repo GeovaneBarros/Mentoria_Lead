{
 "cells": [
  {
   "cell_type": "markdown",
   "metadata": {},
   "source": [
    "## Importação"
   ]
  },
  {
   "cell_type": "code",
   "execution_count": 52,
   "metadata": {},
   "outputs": [],
   "source": [
    "import numpy as np\n",
    "import seaborn as sb\n",
    "import pandas as pd\n",
    "import matplotlib.pyplot as plt\n",
    "from sklearn.naive_bayes import GaussianNB\n",
    "%matplotlib inline\n",
    "from sklearn.preprocessing import Normalizer, LabelEncoder, OneHotEncoder\n",
    "from sklearn.ensemble import RandomForestClassifier\n",
    "from sklearn.neighbors import KNeighborsClassifier\n",
    "from sklearn.tree import DecisionTreeClassifier\n",
    "from sklearn.svm import SVC\n",
    "from sklearn.neural_network import MLPClassifier\n",
    "from sklearn.model_selection import train_test_split, KFold\n",
    "from sklearn.manifold import TSNE\n",
    "from sklearn.model_selection import GridSearchCV, RandomizedSearchCV\n",
    "from sklearn.metrics import accuracy_score, confusion_matrix, ConfusionMatrixDisplay, classification_report"
   ]
  },
  {
   "cell_type": "markdown",
   "metadata": {},
   "source": [
    "## Pegando DataSet"
   ]
  },
  {
   "cell_type": "code",
   "execution_count": 53,
   "metadata": {},
   "outputs": [],
   "source": [
    "df = pd.read_csv('./SRC/titanic/train.csv', sep=',')\n",
    "df_test = pd.read_csv('./SRC/titanic/test.csv', sep=',')\n",
    "y_test = pd.read_csv('./SRC/titanic/gender_submission.csv', sep=',')"
   ]
  },
  {
   "cell_type": "code",
   "execution_count": 54,
   "metadata": {},
   "outputs": [],
   "source": [
    "y_test = y_test['Survived']"
   ]
  },
  {
   "cell_type": "markdown",
   "metadata": {},
   "source": [
    "## Análise dos dados"
   ]
  },
  {
   "cell_type": "markdown",
   "metadata": {},
   "source": [
    "Primeiro passo é excluir colunas que em nenhuma hipótese ferão diferença"
   ]
  },
  {
   "cell_type": "code",
   "execution_count": 55,
   "metadata": {},
   "outputs": [],
   "source": [
    "df = df.drop(columns=['PassengerId', 'Name', 'Cabin'])\n",
    "df_test = df_test.drop(columns=['PassengerId', 'Name', 'Cabin'])"
   ]
  },
  {
   "cell_type": "markdown",
   "metadata": {},
   "source": [
    "Segundo passo foi transformar todos os dados categoricos em numericos"
   ]
  },
  {
   "cell_type": "code",
   "execution_count": 56,
   "metadata": {},
   "outputs": [
    {
     "data": {
      "text/plain": [
       "<AxesSubplot:xlabel='Embarked', ylabel='count'>"
      ]
     },
     "execution_count": 56,
     "metadata": {},
     "output_type": "execute_result"
    },
    {
     "data": {
      "image/png": "[encoded data removed]",
      "text/plain": [
       "<Figure size 432x288 with 1 Axes>"
      ]
     },
     "metadata": {
      "needs_background": "light"
     },
     "output_type": "display_data"
    }
   ],
   "source": [
    "sb.countplot(data=df, x='Embarked', hue='Survived')"
   ]
  },
  {
   "cell_type": "code",
   "execution_count": 57,
   "metadata": {},
   "outputs": [
    {
     "data": {
      "text/plain": [
       "<AxesSubplot:xlabel='Pclass', ylabel='count'>"
      ]
     },
     "execution_count": 57,
     "metadata": {},
     "output_type": "execute_result"
    },
    {
     "data": {
      "image/png": "[encoded data removed]",
      "text/plain": [
       "<Figure size 432x288 with 1 Axes>"
      ]
     },
     "metadata": {
      "needs_background": "light"
     },
     "output_type": "display_data"
    }
   ],
   "source": [
    "sb.countplot(data=df, x='Pclass', hue='Survived')"
   ]
  },
  {
   "cell_type": "code",
   "execution_count": 58,
   "metadata": {},
   "outputs": [
    {
     "data": {
      "text/plain": [
       "<AxesSubplot:xlabel='Sex', ylabel='count'>"
      ]
     },
     "execution_count": 58,
     "metadata": {},
     "output_type": "execute_result"
    },
    {
     "data": {
      "image/png": "[encoded data removed]",
      "text/plain": [
       "<Figure size 432x288 with 1 Axes>"
      ]
     },
     "metadata": {
      "needs_background": "light"
     },
     "output_type": "display_data"
    }
   ],
   "source": [
    "sb.countplot(data=df, x='Sex', hue='Survived')"
   ]
  },
  {
   "cell_type": "markdown",
   "metadata": {},
   "source": [
    "Depois de alguns da análise, percebi que alguns dados não são tão relevantes(Fare, Ticket), alguns dados são redundantes(Embarked, a diferença no plot é devido alguns passageiros de primeira classe embarcaram em ponto específico) e por ultimos os dados da Cabin são muito importantes, porém escassos, farei teste substituindo os faltantes por um valor 0 e outro excluindo esta coluna."
   ]
  },
  {
   "cell_type": "code",
   "execution_count": 59,
   "metadata": {},
   "outputs": [],
   "source": [
    "df = df.drop(columns=['Embarked', 'Ticket', 'Fare'])\n",
    "df_test = df_test.drop(columns=['Embarked', 'Fare', 'Ticket'])"
   ]
  },
  {
   "cell_type": "markdown",
   "metadata": {},
   "source": [
    "## Tratamento de dados"
   ]
  },
  {
   "cell_type": "code",
   "execution_count": 60,
   "metadata": {},
   "outputs": [],
   "source": [
    "df = df.fillna('0')\n",
    "df_test = df_test.fillna('0')"
   ]
  },
  {
   "cell_type": "code",
   "execution_count": 61,
   "metadata": {},
   "outputs": [],
   "source": [
    "labelencoder = LabelEncoder()\n",
    "\n",
    "df['Sex'] = labelencoder.fit_transform(df['Sex'])\n",
    "df_test['Sex'] = labelencoder.fit_transform(df_test['Sex'])"
   ]
  },
  {
   "cell_type": "code",
   "execution_count": 62,
   "metadata": {},
   "outputs": [],
   "source": [
    "X_train, X_test = df.drop(columns=['Survived']), df_test\n",
    "y_train = df['Survived']"
   ]
  },
  {
   "cell_type": "markdown",
   "metadata": {},
   "source": [
    "## Training classifiers"
   ]
  },
  {
   "cell_type": "markdown",
   "metadata": {},
   "source": [
    "### Selecting models and names"
   ]
  },
  {
   "cell_type": "code",
   "execution_count": 63,
   "metadata": {},
   "outputs": [],
   "source": [
    "models = {\n",
    "    'knn': KNeighborsClassifier(),\n",
    "    'decision_tree': DecisionTreeClassifier(),\n",
    "    'random_forest': RandomForestClassifier(),\n",
    "    'svc': SVC(),\n",
    "    'mlp': MLPClassifier(),\n",
    "    'bayes': GaussianNB()\n",
    "}"
   ]
  },
  {
   "cell_type": "code",
   "execution_count": 64,
   "metadata": {},
   "outputs": [],
   "source": [
    "names_models = {\n",
    "    'knn': 'KNeighborsClassifier',\n",
    "    'decision_tree': 'DecisionTreeClassifier',\n",
    "    'random_forest': 'RandomForestClassifier',\n",
    "    'svc': 'SVC',\n",
    "    'mlp': 'MLPClassifier',\n",
    "    'bayes': 'GaussianNB'\n",
    "}"
   ]
  },
  {
   "cell_type": "markdown",
   "metadata": {},
   "source": [
    "### Training"
   ]
  },
  {
   "cell_type": "code",
   "execution_count": 65,
   "metadata": {},
   "outputs": [
    {
     "name": "stdout",
     "output_type": "stream",
     "text": [
      "Accuracy KNeighborsClassifier = 0.7918660287081339\n",
      "Accuracy DecisionTreeClassifier = 0.7870813397129187\n",
      "Accuracy RandomForestClassifier = 0.8038277511961722\n",
      "Accuracy SVC = 0.6363636363636364\n",
      "Accuracy MLPClassifier = 0.9449760765550239\n",
      "Accuracy GaussianNB = 0.868421052631579\n"
     ]
    },
    {
     "name": "stderr",
     "output_type": "stream",
     "text": [
      "/home/geovanebarros/anaconda3/lib/python3.8/site-packages/sklearn/neural_network/_multilayer_perceptron.py:614: ConvergenceWarning: Stochastic Optimizer: Maximum iterations (200) reached and the optimization hasn't converged yet.\n",
      "  warnings.warn(\n"
     ]
    }
   ],
   "source": [
    "accuracies = []\n",
    "classifiers = []\n",
    "for i in models:\n",
    "    clf = models[i].fit(X_train, y_train)\n",
    "    y_predict = clf.predict(X_test)\n",
    "    accuracy = accuracy_score(y_test, y_predict)\n",
    "    print(f'Accuracy {names_models[i]} = {accuracy_score(y_test, y_predict)}')\n",
    "    accuracies.append(accuracy)\n",
    "    classifiers.append(names_models[i])"
   ]
  },
  {
   "cell_type": "markdown",
   "metadata": {},
   "source": [
    "### Plot results"
   ]
  },
  {
   "cell_type": "code",
   "execution_count": 66,
   "metadata": {},
   "outputs": [
    {
     "data": {
      "image/png": "[encoded data removed]",
      "text/plain": [
       "<Figure size 432x288 with 1 Axes>"
      ]
     },
     "metadata": {
      "needs_background": "light"
     },
     "output_type": "display_data"
    }
   ],
   "source": [
    "dataframe = pd.DataFrame({\n",
    "    'Classifiers': classifiers,\n",
    "    'Accuracies':accuracies\n",
    "})\n",
    "ax = sb.barplot(data=dataframe, x='Classifiers', y='Accuracies')\n",
    "ax.set(ylim=(0.4,1))\n",
    "ax.tick_params(axis='x', rotation=45)"
   ]
  },
  {
   "cell_type": "markdown",
   "metadata": {},
   "source": [
    "## Improving classifier"
   ]
  },
  {
   "cell_type": "markdown",
   "metadata": {},
   "source": [
    "### Selecting best classifiers"
   ]
  },
  {
   "cell_type": "code",
   "execution_count": 67,
   "metadata": {},
   "outputs": [],
   "source": [
    "names_models = {\n",
    "    'knn': 'KNeighborsClassifier',\n",
    "    'decision_tree': 'DecisionTreeClassifier',\n",
    "    'random_forest': 'RandomForestClassifier',\n",
    "    'svc': 'SVC',\n",
    "    'mlp': 'MLPClassifier',\n",
    "}"
   ]
  },
  {
   "cell_type": "code",
   "execution_count": 78,
   "metadata": {},
   "outputs": [],
   "source": [
    "params = {\n",
    "    'knn': {'n_neighbors':[1,3,5,7]},\n",
    "    'decision_tree':{'criterion': ['gini','entropy'], 'splitter':['best', 'random']},\n",
    "    'random_forest': {'criterion': ['gini','entropy'], 'n_estimators':[50,100,150,200]},\n",
    "    'svc': {'kernel':['linear', 'poly', 'rbf', 'sigmoid'], 'gamma':['scale','auto'], 'degree':[2,3,4]},\n",
    "    'mlp': {'solver':['sgd', 'adam'], 'hidden_layer_sizes':[(100,), (50,50), (100,50)], 'max_iter':[1000]},\n",
    "}"
   ]
  },
  {
   "cell_type": "markdown",
   "metadata": {},
   "source": [
    "### RandomSearch to find the best classifiers and params"
   ]
  },
  {
   "cell_type": "code",
   "execution_count": 79,
   "metadata": {},
   "outputs": [
    {
     "name": "stdout",
     "output_type": "stream",
     "text": [
      "Accuracy KNeighborsClassifier = 0.7727272727272727\n",
      "Best params {'n_neighbors': 7}\n",
      "Accuracy DecisionTreeClassifier = 0.7990430622009569\n",
      "Best params {'criterion': 'entropy'}\n"
     ]
    },
    {
     "name": "stderr",
     "output_type": "stream",
     "text": [
      "/home/geovanebarros/anaconda3/lib/python3.8/site-packages/sklearn/model_selection/_search.py:285: UserWarning: The total space of parameters 2 is smaller than n_iter=4. Running 2 iterations. For exhaustive searches, use GridSearchCV.\n",
      "  warnings.warn(\n"
     ]
    },
    {
     "name": "stdout",
     "output_type": "stream",
     "text": [
      "Accuracy RandomForestClassifier = 0.8205741626794258\n",
      "Best params {'n_estimators': 100, 'criterion': 'gini'}\n"
     ]
    }
   ],
   "source": [
    "best_accuracy = 0\n",
    "\n",
    "for i in models:\n",
    "    clf = RandomizedSearchCV(models[i], params[i], n_iter=4).fit(X_train, y_train)\n",
    "    y_predict = clf.predict(X_test)\n",
    "    accuracy = accuracy_score(y_test, y_predict)\n",
    "    print(f'Accuracy {names_models[i]} = {accuracy_score(y_test, y_predict)}')\n",
    "    print(f'Best params {clf.best_params_}')\n",
    "    if accuracy > best_accuracy:\n",
    "        best_accuracy = accuracy\n",
    "        best_classifier = clf"
   ]
  },
  {
   "cell_type": "code",
   "execution_count": null,
   "metadata": {},
   "outputs": [],
   "source": []
  },
  {
   "cell_type": "markdown",
   "metadata": {},
   "source": [
    "## Checking whether normalization and standardization have an effect"
   ]
  },
  {
   "cell_type": "code",
   "execution_count": null,
   "metadata": {},
   "outputs": [],
   "source": [
    "X_train_normalized = Normalizer().fit(X_train).transform(X_train)\n",
    "X_test_normalized = Normalizer().fit(X_test).transform(X_test)\n",
    "X_train_standard = Normalizer().fit(X_train).transform(X_train)\n",
    "X_test_standard = Normalizer().fit(X_test).transform(X_test)"
   ]
  },
  {
   "cell_type": "markdown",
   "metadata": {},
   "source": [
    "## Salvando o melhor modelo"
   ]
  },
  {
   "cell_type": "code",
   "execution_count": 70,
   "metadata": {},
   "outputs": [],
   "source": [
    "import os\n",
    "save_models_path = './results'\n",
    "if not os.path.exists(save_models_path):\n",
    "    os.mkdir(save_models_path)"
   ]
  },
  {
   "cell_type": "code",
   "execution_count": 71,
   "metadata": {},
   "outputs": [],
   "source": [
    "import joblib\n",
    "import glob"
   ]
  },
  {
   "cell_type": "markdown",
   "metadata": {},
   "source": [
    "O melhor classificador foi o MLP, ele será salvo."
   ]
  },
  {
   "cell_type": "code",
   "execution_count": 72,
   "metadata": {},
   "outputs": [
    {
     "data": {
      "text/plain": [
       "['./results/titanic.pkl']"
      ]
     },
     "execution_count": 72,
     "metadata": {},
     "output_type": "execute_result"
    }
   ],
   "source": [
    "filename = save_models_path+'/titanic.pkl'\n",
    "joblib.dump(clf,filename)"
   ]
  },
  {
   "cell_type": "code",
   "execution_count": 73,
   "metadata": {},
   "outputs": [],
   "source": [
    "modelo_load = joblib.load('./results/titanic.pkl')"
   ]
  },
  {
   "cell_type": "code",
   "execution_count": 74,
   "metadata": {},
   "outputs": [
    {
     "data": {
      "text/plain": [
       "0.6339712918660287"
      ]
     },
     "execution_count": 74,
     "metadata": {},
     "output_type": "execute_result"
    }
   ],
   "source": [
    "accuracy_score(y_test, modelo_load.predict(X_test))"
   ]
  }
 ],
 "metadata": {
  "interpreter": {
   "hash": "ea1739ab543a4b410229dd1eb18854054f2f11dbbb2ce59b0d0244421c1efe7a"
  },
  "kernelspec": {
   "display_name": "Python 3.8.8 64-bit ('base': conda)",
   "name": "python3"
  },
  "language_info": {
   "codemirror_mode": {
    "name": "ipython",
    "version": 3
   },
   "file_extension": ".py",
   "mimetype": "text/x-python",
   "name": "python",
   "nbconvert_exporter": "python",
   "pygments_lexer": "ipython3",
   "version": "3.8.8"
  },
  "orig_nbformat": 4
 },
 "nbformat": 4,
 "nbformat_minor": 2
}

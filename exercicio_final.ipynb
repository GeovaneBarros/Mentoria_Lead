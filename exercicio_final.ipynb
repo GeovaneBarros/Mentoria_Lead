{
 "cells": [
  {
   "cell_type": "markdown",
   "metadata": {},
   "source": [
    "## Import"
   ]
  },
  {
   "cell_type": "code",
   "execution_count": 122,
   "metadata": {},
   "outputs": [],
   "source": [
    "import numpy as np\n",
    "import seaborn as sb\n",
    "import pandas as pd\n",
    "import matplotlib.pyplot as plt\n",
    "from sklearn.naive_bayes import GaussianNB\n",
    "%matplotlib inline\n",
    "from sklearn.preprocessing import Normalizer, LabelEncoder, OneHotEncoder\n",
    "from sklearn.ensemble import RandomForestClassifier\n",
    "from sklearn.neighbors import KNeighborsClassifier\n",
    "from sklearn.tree import DecisionTreeClassifier\n",
    "from sklearn.svm import SVC\n",
    "from sklearn.neural_network import MLPClassifier\n",
    "from sklearn.model_selection import train_test_split, KFold\n",
    "from sklearn.manifold import TSNE\n",
    "from sklearn.model_selection import GridSearchCV, RandomizedSearchCV\n",
    "from sklearn.metrics import accuracy_score, confusion_matrix, ConfusionMatrixDisplay, classification_report"
   ]
  },
  {
   "cell_type": "markdown",
   "metadata": {},
   "source": [
    "## Getting dataset"
   ]
  },
  {
   "cell_type": "code",
   "execution_count": 123,
   "metadata": {},
   "outputs": [],
   "source": [
    "df = pd.read_csv('./SRC/titanic/train.csv', sep=',')\n",
    "df_test = pd.read_csv('./SRC/titanic/test.csv', sep=',')\n",
    "y_test = pd.read_csv('./SRC/titanic/gender_submission.csv', sep=',')"
   ]
  },
  {
   "cell_type": "code",
   "execution_count": 124,
   "metadata": {},
   "outputs": [],
   "source": [
    "y_test = y_test['Survived']"
   ]
  },
  {
   "cell_type": "markdown",
   "metadata": {},
   "source": [
    "## Data analisy"
   ]
  },
  {
   "cell_type": "markdown",
   "metadata": {},
   "source": [
    "First step, delete irrelevant columns"
   ]
  },
  {
   "cell_type": "code",
   "execution_count": 125,
   "metadata": {},
   "outputs": [],
   "source": [
    "df = df.drop(columns=['PassengerId', 'Name', 'Cabin'])\n",
    "df_test = df_test.drop(columns=['PassengerId', 'Name', 'Cabin'])"
   ]
  },
  {
   "cell_type": "markdown",
   "metadata": {},
   "source": [
    "Second step, plots to help analyze the dataset"
   ]
  },
  {
   "cell_type": "code",
   "execution_count": 126,
   "metadata": {},
   "outputs": [
    {
     "data": {
      "text/plain": [
       "<AxesSubplot:xlabel='Embarked', ylabel='count'>"
      ]
     },
     "execution_count": 126,
     "metadata": {},
     "output_type": "execute_result"
    },
    {
     "data": {
      "image/png": "[encoded data removed]",
      "text/plain": [
       "<Figure size 432x288 with 1 Axes>"
      ]
     },
     "metadata": {
      "needs_background": "light"
     },
     "output_type": "display_data"
    }
   ],
   "source": [
    "sb.countplot(data=df, x='Embarked', hue='Survived')"
   ]
  },
  {
   "cell_type": "code",
   "execution_count": 127,
   "metadata": {},
   "outputs": [
    {
     "data": {
      "text/plain": [
       "<AxesSubplot:xlabel='Pclass', ylabel='count'>"
      ]
     },
     "execution_count": 127,
     "metadata": {},
     "output_type": "execute_result"
    },
    {
     "data": {
      "image/png": "[encoded data removed]",
      "text/plain": [
       "<Figure size 432x288 with 1 Axes>"
      ]
     },
     "metadata": {
      "needs_background": "light"
     },
     "output_type": "display_data"
    }
   ],
   "source": [
    "sb.countplot(data=df, x='Pclass', hue='Survived')"
   ]
  },
  {
   "cell_type": "code",
   "execution_count": 128,
   "metadata": {},
   "outputs": [
    {
     "data": {
      "text/plain": [
       "<AxesSubplot:xlabel='Sex', ylabel='count'>"
      ]
     },
     "execution_count": 128,
     "metadata": {},
     "output_type": "execute_result"
    },
    {
     "data": {
      "image/png": "[encoded data removed]",
      "text/plain": [
       "<Figure size 432x288 with 1 Axes>"
      ]
     },
     "metadata": {
      "needs_background": "light"
     },
     "output_type": "display_data"
    }
   ],
   "source": [
    "sb.countplot(data=df, x='Sex', hue='Survived')"
   ]
  },
  {
   "cell_type": "markdown",
   "metadata": {},
   "source": [
    "After some of the analysis, I realized that some data is not as relevant (Fare, Ticket), some data is redundant (Embarked, the difference in the plot is due to some first class passengers boarding at a specific point) and finally the Cabin data are very important, but scarce."
   ]
  },
  {
   "cell_type": "markdown",
   "metadata": {},
   "source": [
    "## Data processing"
   ]
  },
  {
   "cell_type": "code",
   "execution_count": 129,
   "metadata": {},
   "outputs": [],
   "source": [
    "df = df.drop(columns=['Embarked', 'Ticket', 'Fare'])\n",
    "df_test = df_test.drop(columns=['Embarked', 'Fare', 'Ticket'])"
   ]
  },
  {
   "cell_type": "code",
   "execution_count": 130,
   "metadata": {},
   "outputs": [],
   "source": [
    "df = df.fillna('0')\n",
    "df_test = df_test.fillna('0')"
   ]
  },
  {
   "cell_type": "code",
   "execution_count": 131,
   "metadata": {},
   "outputs": [],
   "source": [
    "labelencoder = LabelEncoder()\n",
    "\n",
    "df['Sex'] = labelencoder.fit_transform(df['Sex'])\n",
    "df_test['Sex'] = labelencoder.fit_transform(df_test['Sex'])"
   ]
  },
  {
   "cell_type": "code",
   "execution_count": 132,
   "metadata": {},
   "outputs": [],
   "source": [
    "X_train, X_test = df.drop(columns=['Survived']), df_test\n",
    "y_train = df['Survived']"
   ]
  },
  {
   "cell_type": "markdown",
   "metadata": {},
   "source": [
    "## Training classifiers"
   ]
  },
  {
   "cell_type": "markdown",
   "metadata": {},
   "source": [
    "### Selecting models and names"
   ]
  },
  {
   "cell_type": "code",
   "execution_count": 133,
   "metadata": {},
   "outputs": [],
   "source": [
    "models = {\n",
    "    'knn': KNeighborsClassifier(),\n",
    "    'decision_tree': DecisionTreeClassifier(),\n",
    "    'random_forest': RandomForestClassifier(),\n",
    "    'svc': SVC(),\n",
    "    'mlp': MLPClassifier(max_iter=500),\n",
    "    'bayes': GaussianNB()\n",
    "}"
   ]
  },
  {
   "cell_type": "code",
   "execution_count": 134,
   "metadata": {},
   "outputs": [],
   "source": [
    "names_models = {\n",
    "    'knn': 'KNeighborsClassifier',\n",
    "    'decision_tree': 'DecisionTreeClassifier',\n",
    "    'random_forest': 'RandomForestClassifier',\n",
    "    'svc': 'SVC',\n",
    "    'mlp': 'MLPClassifier',\n",
    "    'bayes': 'GaussianNB'\n",
    "}"
   ]
  },
  {
   "cell_type": "markdown",
   "metadata": {},
   "source": [
    "### Training"
   ]
  },
  {
   "cell_type": "code",
   "execution_count": 135,
   "metadata": {},
   "outputs": [
    {
     "name": "stdout",
     "output_type": "stream",
     "text": [
      "Accuracy KNeighborsClassifier = 0.7918660287081339\n",
      "Accuracy DecisionTreeClassifier = 0.7870813397129187\n",
      "Accuracy RandomForestClassifier = 0.80622009569378\n",
      "Accuracy SVC = 0.6363636363636364\n",
      "Accuracy MLPClassifier = 0.9354066985645934\n",
      "Accuracy GaussianNB = 0.868421052631579\n"
     ]
    }
   ],
   "source": [
    "accuracies = []\n",
    "classifiers = []\n",
    "for i in models:\n",
    "    clf = models[i].fit(X_train, y_train)\n",
    "    y_predict = clf.predict(X_test)\n",
    "    accuracy = accuracy_score(y_test, y_predict)\n",
    "    print(f'Accuracy {names_models[i]} = {accuracy_score(y_test, y_predict)}')\n",
    "    accuracies.append(accuracy)\n",
    "    classifiers.append(names_models[i])"
   ]
  },
  {
   "cell_type": "markdown",
   "metadata": {},
   "source": [
    "### Plot results"
   ]
  },
  {
   "cell_type": "code",
   "execution_count": 136,
   "metadata": {},
   "outputs": [
    {
     "data": {
      "image/png": "[encoded data removed]",
      "text/plain": [
       "<Figure size 432x288 with 1 Axes>"
      ]
     },
     "metadata": {
      "needs_background": "light"
     },
     "output_type": "display_data"
    }
   ],
   "source": [
    "dataframe = pd.DataFrame({\n",
    "    'Classifiers': classifiers,\n",
    "    'Accuracies':accuracies\n",
    "})\n",
    "ax = sb.barplot(data=dataframe, x='Classifiers', y='Accuracies')\n",
    "ax.set(ylim=(0.4,1))\n",
    "ax.tick_params(axis='x', rotation=45)"
   ]
  },
  {
   "cell_type": "markdown",
   "metadata": {},
   "source": [
    "## Improving classifier"
   ]
  },
  {
   "cell_type": "markdown",
   "metadata": {},
   "source": [
    "### Selecting best classifiers"
   ]
  },
  {
   "cell_type": "code",
   "execution_count": 137,
   "metadata": {},
   "outputs": [],
   "source": [
    "models = {\n",
    "    'knn': KNeighborsClassifier(),\n",
    "    'decision_tree': DecisionTreeClassifier(),\n",
    "    'random_forest': RandomForestClassifier(),\n",
    "    'svc': SVC(),\n",
    "    'mlp': MLPClassifier(max_iter=500),\n",
    "}"
   ]
  },
  {
   "cell_type": "code",
   "execution_count": 138,
   "metadata": {},
   "outputs": [],
   "source": [
    "params = {\n",
    "    'knn': {'n_neighbors':[1,3,5,7]},\n",
    "    'decision_tree':{'criterion': ['gini','entropy'], 'splitter':['best', 'random']},\n",
    "    'random_forest': {'criterion': ['gini','entropy'], 'n_estimators':[50,100,150,200]},\n",
    "    'svc': {'kernel':['poly', 'rbf', 'sigmoid'], 'degree':[2,3]},\n",
    "    'mlp': {'solver':['sgd', 'adam'], 'hidden_layer_sizes':[(100,), (50,50), (100,50)], 'max_iter':[1000]},\n",
    "}"
   ]
  },
  {
   "cell_type": "markdown",
   "metadata": {},
   "source": [
    "### RandomSearch to find the best classifiers and params"
   ]
  },
  {
   "cell_type": "code",
   "execution_count": 139,
   "metadata": {},
   "outputs": [
    {
     "name": "stdout",
     "output_type": "stream",
     "text": [
      "Accuracy KNeighborsClassifier = 0.7727272727272727\n",
      "Best params {'n_neighbors': 7}\n",
      "Accuracy DecisionTreeClassifier = 0.7894736842105263\n",
      "Best params {'criterion': 'gini', 'splitter': 'best'}\n",
      "Accuracy RandomForestClassifier = 0.7990430622009569\n",
      "Best params {'criterion': 'gini', 'n_estimators': 200}\n",
      "Accuracy SVC = 0.7057416267942583\n",
      "Best params {'degree': 3, 'kernel': 'poly'}\n",
      "Accuracy MLPClassifier = 0.9497607655502392\n",
      "Best params {'hidden_layer_sizes': (100,), 'max_iter': 1000, 'solver': 'adam'}\n"
     ]
    }
   ],
   "source": [
    "best_accuracy = 0\n",
    "\n",
    "for i in models:\n",
    "    clf = GridSearchCV(models[i], params[i]).fit(X_train, y_train)\n",
    "    y_predict = clf.predict(X_test)\n",
    "    accuracy = accuracy_score(y_test, y_predict)\n",
    "    print(f'Accuracy {names_models[i]} = {accuracy_score(y_test, y_predict)}')\n",
    "    print(f'Best params {clf.best_params_}')\n",
    "    if accuracy > best_accuracy:\n",
    "        best_accuracy = accuracy\n",
    "        best_classifier = clf"
   ]
  },
  {
   "cell_type": "markdown",
   "metadata": {},
   "source": [
    "## Checking whether normalization and standardization have an effect"
   ]
  },
  {
   "cell_type": "code",
   "execution_count": 140,
   "metadata": {},
   "outputs": [],
   "source": [
    "X_train_normalized = Normalizer().fit(X_train).transform(X_train)\n",
    "X_test_normalized = Normalizer().fit(X_test).transform(X_test)\n",
    "X_train_standard = Normalizer().fit(X_train).transform(X_train)\n",
    "X_test_standard = Normalizer().fit(X_test).transform(X_test)"
   ]
  },
  {
   "cell_type": "code",
   "execution_count": 141,
   "metadata": {},
   "outputs": [
    {
     "data": {
      "text/plain": [
       "MLPClassifier(max_iter=1000)"
      ]
     },
     "execution_count": 141,
     "metadata": {},
     "output_type": "execute_result"
    }
   ],
   "source": [
    "model = best_classifier.best_estimator_\n",
    "model"
   ]
  },
  {
   "cell_type": "code",
   "execution_count": 142,
   "metadata": {},
   "outputs": [],
   "source": [
    "classifiers = ['No alter', 'Normalized', 'Standarlized']\n",
    "accuracies = []\n",
    "model.fit(X_train, y_train)\n",
    "accuracies.append(accuracy_score(y_test, model.predict(X_test)))\n",
    "model.fit(X_train_normalized, y_train)\n",
    "accuracies.append(accuracy_score(y_test, model.predict(X_test_normalized)))\n",
    "model.fit(X_train_standard,y_train)\n",
    "accuracies.append(accuracy_score(y_test, model.predict(X_test_standard)))"
   ]
  },
  {
   "cell_type": "code",
   "execution_count": 143,
   "metadata": {},
   "outputs": [
    {
     "data": {
      "image/png": "[encoded data removed]",
      "text/plain": [
       "<Figure size 432x288 with 1 Axes>"
      ]
     },
     "metadata": {
      "needs_background": "light"
     },
     "output_type": "display_data"
    }
   ],
   "source": [
    "dataframe = pd.DataFrame({\n",
    "    'Classifiers': classifiers,\n",
    "    'Accuracies':accuracies\n",
    "})\n",
    "ax = sb.barplot(data=dataframe, x='Classifiers', y='Accuracies')\n",
    "ax.set(ylim=(0.9,1))\n",
    "ax.tick_params(axis='x', rotation=45)"
   ]
  },
  {
   "cell_type": "markdown",
   "metadata": {},
   "source": [
    "For this set of data, the classifier gains around 8% to 11% accuracy compared to standardized and normalized data"
   ]
  },
  {
   "cell_type": "markdown",
   "metadata": {},
   "source": [
    "## Saving best model"
   ]
  },
  {
   "cell_type": "code",
   "execution_count": 144,
   "metadata": {},
   "outputs": [],
   "source": [
    "import os\n",
    "save_models_path = './results'\n",
    "if not os.path.exists(save_models_path):\n",
    "    os.mkdir(save_models_path)"
   ]
  },
  {
   "cell_type": "code",
   "execution_count": 145,
   "metadata": {},
   "outputs": [],
   "source": [
    "import joblib\n",
    "import glob"
   ]
  },
  {
   "cell_type": "code",
   "execution_count": 146,
   "metadata": {},
   "outputs": [
    {
     "data": {
      "text/plain": [
       "['./results/titanic.pkl']"
      ]
     },
     "execution_count": 146,
     "metadata": {},
     "output_type": "execute_result"
    }
   ],
   "source": [
    "filename = save_models_path+'/titanic.pkl'\n",
    "model = model = best_classifier.best_estimator_\n",
    "model.fit(X_train_normalized, y_train)\n",
    "joblib.dump(model,filename)"
   ]
  },
  {
   "cell_type": "markdown",
   "metadata": {},
   "source": [
    "The 'Normalization' data processing technique was chosen to implement the algorithm, as it has better results in the tests."
   ]
  },
  {
   "cell_type": "code",
   "execution_count": 147,
   "metadata": {},
   "outputs": [],
   "source": [
    "modelo_load = joblib.load('./results/titanic.pkl')"
   ]
  },
  {
   "cell_type": "code",
   "execution_count": 148,
   "metadata": {},
   "outputs": [
    {
     "data": {
      "text/plain": [
       "0.9354066985645934"
      ]
     },
     "execution_count": 148,
     "metadata": {},
     "output_type": "execute_result"
    }
   ],
   "source": [
    "accuracy_score(y_test, modelo_load.predict(X_test_normalized))"
   ]
  }
 ],
 "metadata": {
  "interpreter": {
   "hash": "ea1739ab543a4b410229dd1eb18854054f2f11dbbb2ce59b0d0244421c1efe7a"
  },
  "kernelspec": {
   "display_name": "Python 3.8.8 64-bit ('base': conda)",
   "name": "python3"
  },
  "language_info": {
   "codemirror_mode": {
    "name": "ipython",
    "version": 3
   },
   "file_extension": ".py",
   "mimetype": "text/x-python",
   "name": "python",
   "nbconvert_exporter": "python",
   "pygments_lexer": "ipython3",
   "version": "3.8.8"
  },
  "orig_nbformat": 4
 },
 "nbformat": 4,
 "nbformat_minor": 2
}
